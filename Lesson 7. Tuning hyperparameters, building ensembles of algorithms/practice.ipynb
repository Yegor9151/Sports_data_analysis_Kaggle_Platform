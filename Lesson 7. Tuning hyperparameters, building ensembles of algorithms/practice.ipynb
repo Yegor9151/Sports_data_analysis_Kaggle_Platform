{
 "cells": [
  {
   "cell_type": "markdown",
   "id": "cde3a3e7",
   "metadata": {},
   "source": [
    "Чтобы было больше времени на выполнение курсовой работы, задание выполнить на наборе данных для соревнования:\n",
    "\n",
    "Тестовая выборка - это выборка для применения модели и загрузки на ЛБ."
   ]
  },
  {
   "cell_type": "code",
   "execution_count": 1,
   "id": "139aeccc",
   "metadata": {},
   "outputs": [],
   "source": [
    "import sys\n",
    "sys.path.append('../')"
   ]
  },
  {
   "cell_type": "code",
   "execution_count": 2,
   "id": "59ca9975",
   "metadata": {},
   "outputs": [],
   "source": [
    "from utils import load_data\n",
    "\n",
    "import pandas as pd\n",
    "import numpy as np\n",
    "\n",
    "import matplotlib.pyplot as plt\n",
    "import seaborn as sns\n",
    "\n",
    "from scipy.stats import gmean\n",
    "from sklearn.model_selection import KFold\n",
    "from sklearn.metrics import roc_auc_score\n",
    "\n",
    "import lightgbm as lgbm\n",
    "import xgboost as xgb\n",
    "import catboost as cb\n",
    "\n",
    "import warnings\n",
    "warnings.filterwarnings('ignore')"
   ]
  },
  {
   "cell_type": "code",
   "execution_count": 3,
   "id": "b64d8e41",
   "metadata": {},
   "outputs": [
    {
     "name": "stdout",
     "output_type": "stream",
     "text": [
      "(110093, 3)\n",
      "(165141, 2)\n",
      "(250000, 24)\n"
     ]
    }
   ],
   "source": [
    "train = load_data('../data/competition/train.csv', info=False)\n",
    "test = load_data('../data/competition/test.csv', info=False)\n",
    "\n",
    "profile = load_data('../data/competition/client_profile.csv', info=False)"
   ]
  },
  {
   "cell_type": "code",
   "execution_count": 4,
   "id": "ce7d3163",
   "metadata": {},
   "outputs": [
    {
     "name": "stdout",
     "output_type": "stream",
     "text": [
      "(110093, 26) (165141, 25)\n"
     ]
    }
   ],
   "source": [
    "train = train.merge(profile, on='APPLICATION_NUMBER', how='left')\n",
    "test = test.merge(profile, on='APPLICATION_NUMBER', how='left')\n",
    "\n",
    "print(train.shape, test.shape)"
   ]
  },
  {
   "cell_type": "code",
   "execution_count": 5,
   "id": "d7c0571e",
   "metadata": {},
   "outputs": [
    {
     "data": {
      "text/plain": [
       "['NAME_CONTRACT_TYPE', 'GENDER', 'EDUCATION_LEVEL', 'FAMILY_STATUS']"
      ]
     },
     "execution_count": 5,
     "metadata": {},
     "output_type": "execute_result"
    }
   ],
   "source": [
    "trash_features = [col for col, val in (train.dtypes == 'object').items() if val]\n",
    "trash_features"
   ]
  },
  {
   "cell_type": "markdown",
   "id": "15128808",
   "metadata": {},
   "source": [
    "# 1. Обучить алгоритмы LightGBM и XGBoost, получить OOF прогнозы, оценить корреляцию прогнозов на обучающей выборке. Применить модели на тестовую выборку и оценить корреляцию."
   ]
  },
  {
   "cell_type": "code",
   "execution_count": 6,
   "id": "768c93ca",
   "metadata": {},
   "outputs": [],
   "source": [
    "def lgbm_cross_valid(X, y, params, n_splits=5, cat_features='auto'):\n",
    "    \n",
    "    estimators, fold_scores = [], []\n",
    "    oof_preds = np.zeros(X.shape[0])\n",
    "    \n",
    "    for i, (train_idx, valid_idx) in enumerate(KFold(n_splits=n_splits).split(X, y)):\n",
    "        \n",
    "        Xtrain, Xvalid = X.loc[train_idx], X.loc[valid_idx]\n",
    "        ytrain, yvalid = y[train_idx], y[valid_idx]\n",
    "        \n",
    "        model = lgbm.LGBMClassifier(**params)\n",
    "        model.fit(\n",
    "            Xtrain, ytrain,\n",
    "            eval_set=[(Xvalid, yvalid)],\n",
    "            verbose=50,\n",
    "            early_stopping_rounds=50,\n",
    "            categorical_feature=cat_features\n",
    "        )\n",
    "        \n",
    "        oof_preds[valid_idx] = model.predict_proba(Xvalid)[:, 1]\n",
    "        scores = roc_auc_score(yvalid, oof_preds[valid_idx])\n",
    "        scores = round(scores, 4)\n",
    "        \n",
    "        print(f\"Fold {i+1}, Valid score = {scores}\\n\")\n",
    "        \n",
    "        fold_scores.append(scores)\n",
    "        estimators.append(model)\n",
    "        \n",
    "    print(f\"\\nScore by each fold: {fold_scores}\")\n",
    "    return estimators, oof_preds\n",
    "\n",
    "def xgb_cross_valid(X, y, params, n_splits=5):\n",
    "    \n",
    "    estimators, fold_scores = [], []\n",
    "    oof_preds = np.zeros(X.shape[0])\n",
    "    \n",
    "    for i, (train_idx, valid_idx) in enumerate(KFold(n_splits=n_splits).split(X, y)):\n",
    "        \n",
    "        Xtrain, Xvalid = X.loc[train_idx], X.loc[valid_idx]\n",
    "        ytrain, yvalid = y[train_idx], y[valid_idx]\n",
    "        \n",
    "        model = xgb.XGBClassifier(**params)\n",
    "        model.fit(\n",
    "            Xtrain, ytrain,\n",
    "            eval_set=[(Xvalid, yvalid)],\n",
    "            \n",
    "            early_stopping_rounds=50,\n",
    "            verbose=50\n",
    "        )\n",
    "        \n",
    "        oof_preds[valid_idx] = model.predict_proba(Xvalid)[:, 1]\n",
    "        scores = roc_auc_score(yvalid, oof_preds[valid_idx])\n",
    "        scores = round(scores, 4)\n",
    "        \n",
    "        print(f\"Fold {i+1}, Valid score = {scores}\\n\")\n",
    "        \n",
    "        fold_scores.append(scores)\n",
    "        estimators.append(model)\n",
    "        \n",
    "    print(f\"\\nScore by each fold: {fold_scores}\")\n",
    "    return estimators, oof_preds"
   ]
  },
  {
   "cell_type": "code",
   "execution_count": 7,
   "id": "b5a801e5",
   "metadata": {},
   "outputs": [
    {
     "name": "stdout",
     "output_type": "stream",
     "text": [
      "Training until validation scores don't improve for 50 rounds\n",
      "[50]\tvalid_0's auc: 0.708311\n",
      "[100]\tvalid_0's auc: 0.707301\n",
      "Early stopping, best iteration is:\n",
      "[60]\tvalid_0's auc: 0.710311\n",
      "Fold 1, Valid score = 0.7103\n",
      "\n",
      "Training until validation scores don't improve for 50 rounds\n",
      "[50]\tvalid_0's auc: 0.705126\n",
      "Early stopping, best iteration is:\n",
      "[39]\tvalid_0's auc: 0.705332\n",
      "Fold 2, Valid score = 0.7053\n",
      "\n",
      "Training until validation scores don't improve for 50 rounds\n",
      "[50]\tvalid_0's auc: 0.712224\n",
      "Early stopping, best iteration is:\n",
      "[38]\tvalid_0's auc: 0.713618\n",
      "Fold 3, Valid score = 0.7136\n",
      "\n",
      "Training until validation scores don't improve for 50 rounds\n",
      "[50]\tvalid_0's auc: 0.708265\n",
      "[100]\tvalid_0's auc: 0.707003\n",
      "Early stopping, best iteration is:\n",
      "[61]\tvalid_0's auc: 0.709314\n",
      "Fold 4, Valid score = 0.7093\n",
      "\n",
      "Training until validation scores don't improve for 50 rounds\n",
      "[50]\tvalid_0's auc: 0.716492\n",
      "Early stopping, best iteration is:\n",
      "[29]\tvalid_0's auc: 0.719459\n",
      "Fold 5, Valid score = 0.7195\n",
      "\n",
      "\n",
      "Score by each fold: [0.7103, 0.7053, 0.7136, 0.7093, 0.7195]\n"
     ]
    }
   ],
   "source": [
    "Xytrain = train.drop(trash_features, axis=1)\n",
    "\n",
    "X, y = Xytrain.drop('TARGET', axis=1), Xytrain['TARGET']\n",
    "\n",
    "lgbm_params = {\n",
    "    'device_type': 'gpu',\n",
    "    'objective': 'binary',\n",
    "    'metric': 'auc',\n",
    "    \n",
    "    'learning_rate': 0.1,\n",
    "    'num_iterations': 1000\n",
    "}\n",
    "\n",
    "lgbm_models, lgbm_oof_preds = lgbm_cross_valid(\n",
    "    X, y, \n",
    "    params=lgbm_params\n",
    ")"
   ]
  },
  {
   "cell_type": "code",
   "execution_count": 8,
   "id": "5a1f59b3",
   "metadata": {},
   "outputs": [
    {
     "name": "stdout",
     "output_type": "stream",
     "text": [
      "[0]\tvalidation_0-auc:0.67988\n",
      "[50]\tvalidation_0-auc:0.70560\n",
      "[100]\tvalidation_0-auc:0.70767\n",
      "[128]\tvalidation_0-auc:0.70834\n",
      "Fold 1, Valid score = 0.7098\n",
      "\n",
      "[0]\tvalidation_0-auc:0.67171\n",
      "[50]\tvalidation_0-auc:0.70556\n",
      "[100]\tvalidation_0-auc:0.70703\n",
      "[111]\tvalidation_0-auc:0.70641\n",
      "Fold 2, Valid score = 0.7077\n",
      "\n",
      "[0]\tvalidation_0-auc:0.69517\n",
      "[50]\tvalidation_0-auc:0.71454\n",
      "[100]\tvalidation_0-auc:0.71525\n",
      "[124]\tvalidation_0-auc:0.71440\n",
      "Fold 3, Valid score = 0.7171\n",
      "\n",
      "[0]\tvalidation_0-auc:0.66963\n",
      "[50]\tvalidation_0-auc:0.70452\n",
      "[100]\tvalidation_0-auc:0.70899\n",
      "[150]\tvalidation_0-auc:0.70812\n",
      "[167]\tvalidation_0-auc:0.70760\n",
      "Fold 4, Valid score = 0.7093\n",
      "\n",
      "[0]\tvalidation_0-auc:0.69048\n",
      "[50]\tvalidation_0-auc:0.71794\n",
      "[100]\tvalidation_0-auc:0.71839\n",
      "[129]\tvalidation_0-auc:0.71855\n",
      "Fold 5, Valid score = 0.7191\n",
      "\n",
      "\n",
      "Score by each fold: [0.7098, 0.7077, 0.7171, 0.7093, 0.7191]\n"
     ]
    }
   ],
   "source": [
    "xgb_params = {\n",
    "    'tree_method': 'gpu_hist',\n",
    "    'booster': 'gbtree',\n",
    "    'objective': 'binary:logistic',\n",
    "    'eval_metric': 'auc',\n",
    "    \n",
    "    'max_depth': 5,\n",
    "    'n_estimators':1000,\n",
    "    'learning_rate': 0.1\n",
    "}\n",
    "\n",
    "xgb_models, xgb_oof_preds = xgb_cross_valid(\n",
    "    X, y,\n",
    "    params=xgb_params\n",
    ")"
   ]
  },
  {
   "cell_type": "code",
   "execution_count": 9,
   "id": "6a7310ef",
   "metadata": {},
   "outputs": [
    {
     "name": "stdout",
     "output_type": "stream",
     "text": [
      "Wall time: 2.43 s\n"
     ]
    }
   ],
   "source": [
    "%%time\n",
    "def cross_valid_prediction(df, estimators):\n",
    "    \n",
    "    result = 0\n",
    "    for estimator in estimators:\n",
    "        result += estimator.predict_proba(df)[:, 1]\n",
    "    \n",
    "    return result / len(estimators)\n",
    "\n",
    "lgbm_test_preds = cross_valid_prediction(test.drop(trash_features, axis=1), lgbm_models)\n",
    "xgb_test_preds = cross_valid_prediction(test.drop(trash_features, axis=1), xgb_models)"
   ]
  },
  {
   "cell_type": "code",
   "execution_count": 10,
   "id": "908f67ae",
   "metadata": {},
   "outputs": [
    {
     "data": {
      "text/plain": [
       "<AxesSubplot:title={'center':'test corr'}>"
      ]
     },
     "execution_count": 10,
     "metadata": {},
     "output_type": "execute_result"
    },
    {
     "data": {
      "image/png": "[encoded data removed]",
      "text/plain": [
       "<Figure size 720x288 with 4 Axes>"
      ]
     },
     "metadata": {
      "needs_background": "light"
     },
     "output_type": "display_data"
    }
   ],
   "source": [
    "def get_corr(name_preds):\n",
    "    \n",
    "    oof_scores = pd.DataFrame(name_preds)\n",
    "    oof_corr = oof_scores.corr()\n",
    "    mask = np.zeros_like(oof_corr, dtype=np.bool)\n",
    "    mask[np.triu_indices_from(mask)] = True\n",
    "    \n",
    "    return oof_scores, oof_corr, mask\n",
    "\n",
    "oof_scores, oof_corr_train, mask_train = get_corr({'lgbm': lgbm_oof_preds, 'xgb': xgb_oof_preds})\n",
    "scores, corr_test, mask_test = get_corr({'lgbm': lgbm_test_preds, 'xgb': xgb_test_preds})\n",
    "\n",
    "fig, ax = plt.subplots(1, 2, figsize=(10, 4))\n",
    "\n",
    "ax[0].set_title('train corr')\n",
    "sns.heatmap(oof_corr_train, mask=mask_train, annot=True, square=True, ax=ax[0])\n",
    "\n",
    "ax[1].set_title('test corr')\n",
    "sns.heatmap(corr_test, mask=mask_test, annot=True, square=True, ax=ax[1])"
   ]
  },
  {
   "cell_type": "markdown",
   "id": "fde124c0",
   "metadata": {},
   "source": [
    "# 2. Усреднить прогнозы с помощью арифмитического среднего, геометрического среднего и усреднить ранги, сделать выводы о качестве отдельных моделей и о качестве комбинации."
   ]
  },
  {
   "cell_type": "code",
   "execution_count": 11,
   "id": "fcc62504",
   "metadata": {},
   "outputs": [],
   "source": [
    "def ag_means(oof_scores):\n",
    "    amean_scores = oof_scores.mean(axis=1)\n",
    "    amean_scores = roc_auc_score(y, amean_scores)\n",
    "    print(f'Arithmetic mean: {amean_scores}')\n",
    "    \n",
    "    gmean_scores = gmean(oof_scores, axis=1)\n",
    "    gmean_scores = roc_auc_score(y, gmean_scores)\n",
    "    print(f'Geometric mean: {gmean_scores}')\n",
    "    \n",
    "    amean_scores_rank = oof_scores.rank().mean(axis=1)\n",
    "    amean_scores_rank = roc_auc_score(y, amean_scores_rank)\n",
    "    print(f'Arithmetic rank mean: {amean_scores_rank}')\n",
    "    \n",
    "    gmean_scores_rank = gmean(oof_scores.rank(), axis=1)\n",
    "    gmean_scores_rank = roc_auc_score(y, gmean_scores_rank)\n",
    "    print(f'Geometric rank mean: {gmean_scores_rank}')"
   ]
  },
  {
   "cell_type": "code",
   "execution_count": 12,
   "id": "3360a443",
   "metadata": {},
   "outputs": [
    {
     "name": "stdout",
     "output_type": "stream",
     "text": [
      "Arithmetic mean: 0.7121822308328283\n",
      "Geometric mean: 0.7122186825848345\n",
      "Arithmetic rank mean: 0.7120238669131884\n",
      "Geometric rank mean: 0.7120742967053236\n"
     ]
    }
   ],
   "source": [
    "ag_means(oof_scores)"
   ]
  },
  {
   "cell_type": "markdown",
   "id": "c554be49",
   "metadata": {},
   "source": [
    "## Вывод:\n",
    "- геометрическое усреднение результатов показало лучший результат\n",
    "\n",
    "# 3. Обучить CatBoost, получить OOF прогнозы и выполнить задание 1 для трех моделей."
   ]
  },
  {
   "cell_type": "code",
   "execution_count": 13,
   "id": "f26c3521",
   "metadata": {},
   "outputs": [],
   "source": [
    "def cb_cross_valid(X, y, params, n_splits=5):\n",
    "    \n",
    "    estimators, fold_scores = [], []\n",
    "    oof_preds = np.zeros(X.shape[0])\n",
    "    \n",
    "    for i, (train_idx, valid_idx) in enumerate(KFold(n_splits=n_splits).split(X, y)):\n",
    "        \n",
    "        Xtrain, Xvalid = X.loc[train_idx], X.loc[valid_idx]\n",
    "        ytrain, yvalid = y[train_idx], y[valid_idx]\n",
    "        \n",
    "        model = cb.CatBoostClassifier(**params)\n",
    "        model.fit(\n",
    "            Xtrain, ytrain,\n",
    "            eval_set=[(Xvalid, yvalid)]\n",
    "        )\n",
    "        \n",
    "        oof_preds[valid_idx] = model.predict_proba(Xvalid)[:, 1]\n",
    "        scores = roc_auc_score(yvalid, oof_preds[valid_idx])\n",
    "        scores = round(scores, 4)\n",
    "        \n",
    "        print(f\"Fold {i+1}, Valid score = {scores}\\n\")\n",
    "        \n",
    "        fold_scores.append(scores)\n",
    "        estimators.append(model)\n",
    "        \n",
    "    print(f\"\\nScore by each fold: {fold_scores}\")\n",
    "    return estimators, oof_preds"
   ]
  },
  {
   "cell_type": "code",
   "execution_count": 14,
   "id": "7ce26700",
   "metadata": {},
   "outputs": [
    {
     "name": "stdout",
     "output_type": "stream",
     "text": [
      "0:\tlearn: 0.6377747\ttest: 0.6330450\tbest: 0.6330450 (0)\ttotal: 15.5ms\tremaining: 15.5s\n",
      "50:\tlearn: 0.7210471\ttest: 0.7045815\tbest: 0.7045815 (50)\ttotal: 752ms\tremaining: 14s\n",
      "100:\tlearn: 0.7294803\ttest: 0.7082521\tbest: 0.7084844 (99)\ttotal: 1.44s\tremaining: 12.8s\n",
      "150:\tlearn: 0.7373471\ttest: 0.7086890\tbest: 0.7090638 (137)\ttotal: 2.12s\tremaining: 11.9s\n",
      "200:\tlearn: 0.7438497\ttest: 0.7094117\tbest: 0.7099409 (188)\ttotal: 2.81s\tremaining: 11.2s\n",
      "250:\tlearn: 0.7501057\ttest: 0.7102580\tbest: 0.7104822 (235)\ttotal: 3.53s\tremaining: 10.5s\n",
      "300:\tlearn: 0.7563742\ttest: 0.7109668\tbest: 0.7110580 (285)\ttotal: 4.23s\tremaining: 9.83s\n",
      "350:\tlearn: 0.7627536\ttest: 0.7098811\tbest: 0.7110687 (303)\ttotal: 4.95s\tremaining: 9.16s\n",
      "bestTest = 0.7110687494\n",
      "bestIteration = 303\n",
      "Shrink model to first 304 iterations.\n",
      "Fold 1, Valid score = 0.7111\n",
      "\n",
      "0:\tlearn: 0.6410179\ttest: 0.6262816\tbest: 0.6262816 (0)\ttotal: 16.6ms\tremaining: 16.6s\n",
      "50:\tlearn: 0.7202072\ttest: 0.7042990\tbest: 0.7044615 (43)\ttotal: 690ms\tremaining: 12.8s\n",
      "100:\tlearn: 0.7303047\ttest: 0.7066936\tbest: 0.7068045 (98)\ttotal: 1.38s\tremaining: 12.3s\n",
      "150:\tlearn: 0.7370842\ttest: 0.7079469\tbest: 0.7081989 (135)\ttotal: 2.05s\tremaining: 11.5s\n",
      "200:\tlearn: 0.7443072\ttest: 0.7078695\tbest: 0.7084088 (159)\ttotal: 2.74s\tremaining: 10.9s\n",
      "250:\tlearn: 0.7505142\ttest: 0.7083934\tbest: 0.7084992 (209)\ttotal: 3.4s\tremaining: 10.2s\n",
      "300:\tlearn: 0.7570005\ttest: 0.7089491\tbest: 0.7091402 (285)\ttotal: 4.08s\tremaining: 9.48s\n",
      "350:\tlearn: 0.7629486\ttest: 0.7100197\tbest: 0.7100197 (350)\ttotal: 4.81s\tremaining: 8.89s\n",
      "400:\tlearn: 0.7682421\ttest: 0.7094750\tbest: 0.7101252 (360)\ttotal: 5.49s\tremaining: 8.2s\n",
      "bestTest = 0.7101252377\n",
      "bestIteration = 360\n",
      "Shrink model to first 361 iterations.\n",
      "Fold 2, Valid score = 0.7101\n",
      "\n",
      "0:\tlearn: 0.6345483\ttest: 0.6415516\tbest: 0.6415516 (0)\ttotal: 15.8ms\tremaining: 15.8s\n",
      "50:\tlearn: 0.7182761\ttest: 0.7144153\tbest: 0.7144153 (50)\ttotal: 731ms\tremaining: 13.6s\n",
      "100:\tlearn: 0.7292912\ttest: 0.7177782\tbest: 0.7178805 (88)\ttotal: 1.42s\tremaining: 12.6s\n",
      "150:\tlearn: 0.7365240\ttest: 0.7187120\tbest: 0.7187120 (150)\ttotal: 2.09s\tremaining: 11.7s\n",
      "200:\tlearn: 0.7433572\ttest: 0.7189831\tbest: 0.7192239 (165)\ttotal: 2.75s\tremaining: 10.9s\n",
      "bestTest = 0.7192238569\n",
      "bestIteration = 165\n",
      "Shrink model to first 166 iterations.\n",
      "Fold 3, Valid score = 0.7192\n",
      "\n",
      "0:\tlearn: 0.6376561\ttest: 0.6314062\tbest: 0.6314062 (0)\ttotal: 14.4ms\tremaining: 14.4s\n",
      "50:\tlearn: 0.7191952\ttest: 0.7065467\tbest: 0.7065467 (50)\ttotal: 691ms\tremaining: 12.9s\n",
      "100:\tlearn: 0.7287331\ttest: 0.7092714\tbest: 0.7097727 (93)\ttotal: 1.36s\tremaining: 12.1s\n",
      "150:\tlearn: 0.7359072\ttest: 0.7107821\tbest: 0.7111431 (125)\ttotal: 2.02s\tremaining: 11.4s\n",
      "200:\tlearn: 0.7430986\ttest: 0.7122947\tbest: 0.7122947 (200)\ttotal: 2.69s\tremaining: 10.7s\n",
      "250:\tlearn: 0.7494766\ttest: 0.7117987\tbest: 0.7123201 (201)\ttotal: 3.38s\tremaining: 10.1s\n",
      "bestTest = 0.7123200595\n",
      "bestIteration = 201\n",
      "Shrink model to first 202 iterations.\n",
      "Fold 4, Valid score = 0.7123\n",
      "\n",
      "0:\tlearn: 0.6393037\ttest: 0.6381004\tbest: 0.6381004 (0)\ttotal: 13.7ms\tremaining: 13.7s\n",
      "50:\tlearn: 0.7169676\ttest: 0.7190624\tbest: 0.7191415 (49)\ttotal: 708ms\tremaining: 13.2s\n",
      "100:\tlearn: 0.7278300\ttest: 0.7207952\tbest: 0.7219969 (84)\ttotal: 1.38s\tremaining: 12.3s\n",
      "bestTest = 0.7219969034\n",
      "bestIteration = 84\n",
      "Shrink model to first 85 iterations.\n",
      "Fold 5, Valid score = 0.722\n",
      "\n",
      "\n",
      "Score by each fold: [0.7111, 0.7101, 0.7192, 0.7123, 0.722]\n"
     ]
    }
   ],
   "source": [
    "cb_params = {\n",
    "    \"loss_function\": \"Logloss\",\n",
    "    'eval_metric': 'AUC',\n",
    "    \"task_type\": 'GPU',\n",
    "    \n",
    "    'max_depth': 5,\n",
    "    'learning_rate': 0.1,\n",
    "    'n_estimators':1000,\n",
    "    \n",
    "    'early_stopping_rounds': 50,\n",
    "    'verbose': 50\n",
    "}\n",
    "\n",
    "cb_models, cb_oof_preds = cb_cross_valid(\n",
    "    X, y,\n",
    "    params=cb_params\n",
    ")"
   ]
  },
  {
   "cell_type": "code",
   "execution_count": 15,
   "id": "0e433c97",
   "metadata": {},
   "outputs": [
    {
     "data": {
      "text/plain": [
       "<AxesSubplot:title={'center':'test corr'}>"
      ]
     },
     "execution_count": 15,
     "metadata": {},
     "output_type": "execute_result"
    },
    {
     "data": {
      "image/png": "[encoded data removed]",
      "text/plain": [
       "<Figure size 720x288 with 4 Axes>"
      ]
     },
     "metadata": {
      "needs_background": "light"
     },
     "output_type": "display_data"
    }
   ],
   "source": [
    "cb_test_preds = cross_valid_prediction(test.drop(trash_features, axis=1), cb_models)\n",
    "\n",
    "oof_scores, oof_corr_train, mask_train = get_corr({'lgbm': lgbm_oof_preds, 'xgb': xgb_oof_preds, 'cb': cb_oof_preds})\n",
    "scores, corr_test, mask_test = get_corr({'lgbm': lgbm_test_preds, 'xgb': xgb_test_preds, 'cb': cb_test_preds})\n",
    "\n",
    "fig, ax = plt.subplots(1, 2, figsize=(10, 4))\n",
    "\n",
    "ax[0].set_title('train corr')\n",
    "sns.heatmap(oof_corr_train, mask=mask_train, annot=True, square=True, ax=ax[0])\n",
    "\n",
    "ax[1].set_title('test corr')\n",
    "sns.heatmap(corr_test, mask=mask_test, annot=True, square=True, ax=ax[1])"
   ]
  },
  {
   "cell_type": "markdown",
   "id": "08f5fc7d",
   "metadata": {},
   "source": [
    "# Выполнить задание 2 для трех моделей."
   ]
  },
  {
   "cell_type": "code",
   "execution_count": 16,
   "id": "171874f5",
   "metadata": {},
   "outputs": [
    {
     "name": "stdout",
     "output_type": "stream",
     "text": [
      "Arithmetic mean: 0.7139962450130497\n",
      "Geometric mean: 0.7139101687195315\n",
      "Arithmetic rank mean: 0.7136322856149723\n",
      "Geometric rank mean: 0.713616152279899\n"
     ]
    }
   ],
   "source": [
    "ag_means(oof_scores)"
   ]
  },
  {
   "cell_type": "markdown",
   "id": "6a666798",
   "metadata": {},
   "source": [
    "## Вывод:\n",
    "- В данном случаем арифметическое усреднение результатов покзало лучший результат"
   ]
  }
 ],
 "metadata": {
  "kernelspec": {
   "display_name": "Python 3",
   "language": "python",
   "name": "python3"
  },
  "language_info": {
   "codemirror_mode": {
    "name": "ipython",
    "version": 3
   },
   "file_extension": ".py",
   "mimetype": "text/x-python",
   "name": "python",
   "nbconvert_exporter": "python",
   "pygments_lexer": "ipython3",
   "version": "3.8.8"
  }
 },
 "nbformat": 4,
 "nbformat_minor": 5
}
