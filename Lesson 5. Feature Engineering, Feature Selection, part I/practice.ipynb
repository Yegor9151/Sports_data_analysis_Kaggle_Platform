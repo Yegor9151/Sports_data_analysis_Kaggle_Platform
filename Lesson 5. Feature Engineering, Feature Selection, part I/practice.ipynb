{
 "cells": [
  {
   "cell_type": "markdown",
   "id": "a688b2ed",
   "metadata": {},
   "source": [
    "## Продолжим работу с данными, которые были использованы в ДЗ2 и 3, продолжим решать задачу обнаружения мошеннических транзакций, что позволит получить полное решение задачи / полный пайплайн."
   ]
  },
  {
   "cell_type": "code",
   "execution_count": 1,
   "id": "dfabfd76",
   "metadata": {},
   "outputs": [],
   "source": [
    "import pandas as pd\n",
    "import numpy as np\n",
    "\n",
    "from sklearn.model_selection import train_test_split\n",
    "from sklearn.metrics import roc_auc_score\n",
    "\n",
    "import lightgbm as lgbm\n",
    "\n",
    "import warnings\n",
    "warnings.filterwarnings('ignore')"
   ]
  },
  {
   "cell_type": "code",
   "execution_count": 2,
   "id": "dd990bb9",
   "metadata": {},
   "outputs": [
    {
     "name": "stdout",
     "output_type": "stream",
     "text": [
      "Wall time: 7.76 s\n"
     ]
    }
   ],
   "source": [
    "%%time\n",
    "train = pd.read_csv('../data/assignment_2_train.csv')\n",
    "lb = pd.read_csv('../data/assignment_2_test.csv')"
   ]
  },
  {
   "cell_type": "markdown",
   "id": "39cb7cf9",
   "metadata": {},
   "source": [
    "## Задание 0: выбрать любую модель машнного обучения и зафиксировать любой тип валидации. Обучить базовую модель и зафиксировать базовое качество модели. В каждом следующем задании нужно будет обучить выбранную модель и оценивать ее качество на зафиксированной схеме валидации. После каждого задания, требуется сделать вывод о достигаемом качестве модели, по сравнению с качестом из предыдущего шага."
   ]
  },
  {
   "cell_type": "markdown",
   "id": "bae11e57",
   "metadata": {},
   "source": [
    "### recat"
   ]
  },
  {
   "cell_type": "code",
   "execution_count": 3,
   "id": "d2648850",
   "metadata": {},
   "outputs": [],
   "source": [
    "cat_cols = [col for col, val in (train.dtypes == 'object').items() if val]\n",
    "\n",
    "train_lb = pd.concat([train, lb])\n",
    "\n",
    "for col in cat_cols:\n",
    "    cats = train_lb[col].value_counts()\n",
    "    \n",
    "    if len(cats) > 2:\n",
    "        cats = {k: i for i, k in enumerate(cats.keys())}\n",
    "    else:\n",
    "        cats = {k: i for i, k in enumerate(cats.keys().sort_values())}\n",
    "        \n",
    "    train[col] = train[col].map(cats)\n",
    "    lb[col] = lb[col].map(cats)"
   ]
  },
  {
   "cell_type": "markdown",
   "id": "51b04cc8",
   "metadata": {},
   "source": [
    "### training"
   ]
  },
  {
   "cell_type": "code",
   "execution_count": 4,
   "id": "4c65c693",
   "metadata": {},
   "outputs": [],
   "source": [
    "def splitXy(df):\n",
    "    return df.drop('isFraud', axis=1), df['isFraud']"
   ]
  },
  {
   "cell_type": "code",
   "execution_count": 5,
   "id": "52c97f4f",
   "metadata": {},
   "outputs": [],
   "source": [
    "def training_model(df, cat_features):\n",
    "    X, y = splitXy(df)\n",
    "    Xtrain, Xval, ytrain, yval = train_test_split(X, y, train_size=0.8, shuffle=True, random_state=42)\n",
    "        \n",
    "    dtrain = lgbm.Dataset(Xtrain, ytrain, categorical_feature=cat_features)\n",
    "    dval = lgbm.Dataset(Xval, yval, categorical_feature=cat_features)\n",
    "        \n",
    "    params = {'device_type': 'gpu',\n",
    "              'boosting': 'gbdt',\n",
    "              'objective': 'binary',\n",
    "              'metric': 'auc'}\n",
    "\n",
    "    lgbm_model = lgbm.train(\n",
    "        params=params,\n",
    "        train_set=dtrain,\n",
    "        valid_sets=[dtrain, dval],\n",
    "        verbose_eval=10\n",
    "    )\n",
    "    \n",
    "    return lgbm_model"
   ]
  },
  {
   "cell_type": "code",
   "execution_count": 6,
   "id": "b2f0a95a",
   "metadata": {},
   "outputs": [
    {
     "name": "stdout",
     "output_type": "stream",
     "text": [
      "[LightGBM] [Info] Number of positive: 4181, number of negative: 139819\n",
      "[LightGBM] [Info] This is the GPU trainer!!\n",
      "[LightGBM] [Info] Total Bins 32054\n",
      "[LightGBM] [Info] Number of data points in the train set: 144000, number of used features: 391\n",
      "[LightGBM] [Info] Using GPU Device: NVIDIA GeForce GTX 1050 Ti, Vendor: NVIDIA Corporation\n",
      "[LightGBM] [Info] Compiling OpenCL Kernel with 256 bins...\n",
      "[LightGBM] [Info] GPU programs have been built\n",
      "[LightGBM] [Info] Size of histogram bin entry: 8\n",
      "[LightGBM] [Info] 213 dense feature groups (29.66 MB) transferred to GPU in 0.046038 secs. 1 sparse feature groups\n",
      "[LightGBM] [Info] [binary:BoostFromScore]: pavg=0.029035 -> initscore=-3.509798\n",
      "[LightGBM] [Info] Start training from score -3.509798\n",
      "[10]\ttraining's auc: 0.898994\tvalid_1's auc: 0.885144\n",
      "[20]\ttraining's auc: 0.918377\tvalid_1's auc: 0.901614\n",
      "[30]\ttraining's auc: 0.932104\tvalid_1's auc: 0.911304\n",
      "[40]\ttraining's auc: 0.942478\tvalid_1's auc: 0.918751\n",
      "[50]\ttraining's auc: 0.951232\tvalid_1's auc: 0.925692\n",
      "[60]\ttraining's auc: 0.957973\tvalid_1's auc: 0.929864\n",
      "[70]\ttraining's auc: 0.963439\tvalid_1's auc: 0.932454\n",
      "[80]\ttraining's auc: 0.966671\tvalid_1's auc: 0.934974\n",
      "[90]\ttraining's auc: 0.970065\tvalid_1's auc: 0.936632\n",
      "[100]\ttraining's auc: 0.974156\tvalid_1's auc: 0.939779\n",
      "Wall time: 15.6 s\n"
     ]
    }
   ],
   "source": [
    "%%time\n",
    "lgbm_model = training_model(train, cat_cols)"
   ]
  },
  {
   "cell_type": "markdown",
   "id": "2eefeedd",
   "metadata": {},
   "source": [
    "### lb"
   ]
  },
  {
   "cell_type": "code",
   "execution_count": 7,
   "id": "3069ddca",
   "metadata": {},
   "outputs": [
    {
     "data": {
      "text/html": [
       "<div>\n",
       "<style scoped>\n",
       "    .dataframe tbody tr th:only-of-type {\n",
       "        vertical-align: middle;\n",
       "    }\n",
       "\n",
       "    .dataframe tbody tr th {\n",
       "        vertical-align: top;\n",
       "    }\n",
       "\n",
       "    .dataframe thead th {\n",
       "        text-align: right;\n",
       "    }\n",
       "</style>\n",
       "<table border=\"1\" class=\"dataframe\">\n",
       "  <thead>\n",
       "    <tr style=\"text-align: right;\">\n",
       "      <th></th>\n",
       "      <th>roc_auc</th>\n",
       "    </tr>\n",
       "  </thead>\n",
       "  <tbody>\n",
       "    <tr>\n",
       "      <th>base_line</th>\n",
       "      <td>0.860853</td>\n",
       "    </tr>\n",
       "  </tbody>\n",
       "</table>\n",
       "</div>"
      ],
      "text/plain": [
       "            roc_auc\n",
       "base_line  0.860853"
      ]
     },
     "execution_count": 7,
     "metadata": {},
     "output_type": "execute_result"
    }
   ],
   "source": [
    "def get_lb_auc(df, model):\n",
    "    X, y = splitXy(df)\n",
    "    y_pred = model.predict(X)\n",
    "    return roc_auc_score(y, y_pred)\n",
    "\n",
    "scores = pd.DataFrame(columns=['roc_auc'])\n",
    "scores.loc['base_line', 'roc_auc'] = get_lb_auc(lb, lgbm_model)\n",
    "scores"
   ]
  },
  {
   "cell_type": "markdown",
   "id": "81fb902d",
   "metadata": {},
   "source": [
    "## Задание 1: признак TransactionDT - это смещение в секундах относительно базовой даты. Базовая дата - 2017-12-01, преобразовать признак TransactionDT в datetime, прибавив к базовой дате исходное значение признака. Из полученного признака выделить год, месяц, день недели, час, день."
   ]
  },
  {
   "cell_type": "code",
   "execution_count": 8,
   "id": "23860f23",
   "metadata": {},
   "outputs": [],
   "source": [
    "def prepTD(df):\n",
    "    df = df.copy()\n",
    "    df['TransactionDT'] = pd.to_timedelta(df['TransactionDT'], unit='s') + pd.to_datetime('2017-12-01')\n",
    "\n",
    "    df['year'] = df['TransactionDT'].dt.year\n",
    "    df['month'] = df['TransactionDT'].dt.month\n",
    "    df['day'] = df['TransactionDT'].dt.day\n",
    "    df['dayName'] = df['TransactionDT'].dt.day_name()\n",
    "    df['hour'] = df['TransactionDT'].dt.hour\n",
    "    \n",
    "    return df"
   ]
  },
  {
   "cell_type": "code",
   "execution_count": 9,
   "id": "d9d4cc1d",
   "metadata": {},
   "outputs": [
    {
     "data": {
      "text/html": [
       "<div>\n",
       "<style scoped>\n",
       "    .dataframe tbody tr th:only-of-type {\n",
       "        vertical-align: middle;\n",
       "    }\n",
       "\n",
       "    .dataframe tbody tr th {\n",
       "        vertical-align: top;\n",
       "    }\n",
       "\n",
       "    .dataframe thead th {\n",
       "        text-align: right;\n",
       "    }\n",
       "</style>\n",
       "<table border=\"1\" class=\"dataframe\">\n",
       "  <thead>\n",
       "    <tr style=\"text-align: right;\">\n",
       "      <th></th>\n",
       "      <th>TransactionID</th>\n",
       "      <th>isFraud</th>\n",
       "      <th>TransactionDT</th>\n",
       "      <th>TransactionAmt</th>\n",
       "      <th>ProductCD</th>\n",
       "      <th>card1</th>\n",
       "      <th>card2</th>\n",
       "      <th>card3</th>\n",
       "      <th>card4</th>\n",
       "      <th>card5</th>\n",
       "      <th>...</th>\n",
       "      <th>V335</th>\n",
       "      <th>V336</th>\n",
       "      <th>V337</th>\n",
       "      <th>V338</th>\n",
       "      <th>V339</th>\n",
       "      <th>year</th>\n",
       "      <th>month</th>\n",
       "      <th>day</th>\n",
       "      <th>dayName</th>\n",
       "      <th>hour</th>\n",
       "    </tr>\n",
       "  </thead>\n",
       "  <tbody>\n",
       "    <tr>\n",
       "      <th>0</th>\n",
       "      <td>2987000</td>\n",
       "      <td>0</td>\n",
       "      <td>2017-12-02 00:00:00</td>\n",
       "      <td>68.5</td>\n",
       "      <td>0</td>\n",
       "      <td>13926</td>\n",
       "      <td>NaN</td>\n",
       "      <td>150.0</td>\n",
       "      <td>3.0</td>\n",
       "      <td>142.0</td>\n",
       "      <td>...</td>\n",
       "      <td>NaN</td>\n",
       "      <td>NaN</td>\n",
       "      <td>NaN</td>\n",
       "      <td>NaN</td>\n",
       "      <td>NaN</td>\n",
       "      <td>2017</td>\n",
       "      <td>12</td>\n",
       "      <td>2</td>\n",
       "      <td>Saturday</td>\n",
       "      <td>0</td>\n",
       "    </tr>\n",
       "    <tr>\n",
       "      <th>1</th>\n",
       "      <td>2987001</td>\n",
       "      <td>0</td>\n",
       "      <td>2017-12-02 00:00:01</td>\n",
       "      <td>29.0</td>\n",
       "      <td>0</td>\n",
       "      <td>2755</td>\n",
       "      <td>404.0</td>\n",
       "      <td>150.0</td>\n",
       "      <td>1.0</td>\n",
       "      <td>102.0</td>\n",
       "      <td>...</td>\n",
       "      <td>NaN</td>\n",
       "      <td>NaN</td>\n",
       "      <td>NaN</td>\n",
       "      <td>NaN</td>\n",
       "      <td>NaN</td>\n",
       "      <td>2017</td>\n",
       "      <td>12</td>\n",
       "      <td>2</td>\n",
       "      <td>Saturday</td>\n",
       "      <td>0</td>\n",
       "    </tr>\n",
       "  </tbody>\n",
       "</table>\n",
       "<p>2 rows × 399 columns</p>\n",
       "</div>"
      ],
      "text/plain": [
       "   TransactionID  isFraud       TransactionDT  TransactionAmt  ProductCD  \\\n",
       "0        2987000        0 2017-12-02 00:00:00            68.5          0   \n",
       "1        2987001        0 2017-12-02 00:00:01            29.0          0   \n",
       "\n",
       "   card1  card2  card3  card4  card5  ...  V335  V336  V337  V338  V339  year  \\\n",
       "0  13926    NaN  150.0    3.0  142.0  ...   NaN   NaN   NaN   NaN   NaN  2017   \n",
       "1   2755  404.0  150.0    1.0  102.0  ...   NaN   NaN   NaN   NaN   NaN  2017   \n",
       "\n",
       "   month  day   dayName  hour  \n",
       "0     12    2  Saturday     0  \n",
       "1     12    2  Saturday     0  \n",
       "\n",
       "[2 rows x 399 columns]"
      ]
     },
     "execution_count": 9,
     "metadata": {},
     "output_type": "execute_result"
    }
   ],
   "source": [
    "train = prepTD(train)\n",
    "train[:2]"
   ]
  },
  {
   "cell_type": "markdown",
   "id": "7f48a327",
   "metadata": {},
   "source": [
    "### training"
   ]
  },
  {
   "cell_type": "code",
   "execution_count": 10,
   "id": "c2c213aa",
   "metadata": {},
   "outputs": [
    {
     "name": "stdout",
     "output_type": "stream",
     "text": [
      "[LightGBM] [Info] Number of positive: 4181, number of negative: 139819\n",
      "[LightGBM] [Info] This is the GPU trainer!!\n",
      "[LightGBM] [Info] Total Bins 31861\n",
      "[LightGBM] [Info] Number of data points in the train set: 144000, number of used features: 394\n",
      "[LightGBM] [Info] Using GPU Device: NVIDIA GeForce GTX 1050 Ti, Vendor: NVIDIA Corporation\n",
      "[LightGBM] [Info] Compiling OpenCL Kernel with 256 bins...\n",
      "[LightGBM] [Info] GPU programs have been built\n",
      "[LightGBM] [Info] Size of histogram bin entry: 8\n",
      "[LightGBM] [Info] 214 dense feature groups (29.66 MB) transferred to GPU in 0.045817 secs. 1 sparse feature groups\n",
      "[LightGBM] [Info] [binary:BoostFromScore]: pavg=0.029035 -> initscore=-3.509798\n",
      "[LightGBM] [Info] Start training from score -3.509798\n",
      "[10]\ttraining's auc: 0.897285\tvalid_1's auc: 0.882595\n",
      "[20]\ttraining's auc: 0.917134\tvalid_1's auc: 0.89954\n",
      "[30]\ttraining's auc: 0.932138\tvalid_1's auc: 0.910118\n",
      "[40]\ttraining's auc: 0.945155\tvalid_1's auc: 0.918274\n",
      "[50]\ttraining's auc: 0.952963\tvalid_1's auc: 0.924723\n",
      "[60]\ttraining's auc: 0.958095\tvalid_1's auc: 0.928104\n",
      "[70]\ttraining's auc: 0.963572\tvalid_1's auc: 0.932893\n",
      "[80]\ttraining's auc: 0.968215\tvalid_1's auc: 0.934987\n",
      "[90]\ttraining's auc: 0.972046\tvalid_1's auc: 0.937583\n",
      "[100]\ttraining's auc: 0.974585\tvalid_1's auc: 0.940605\n",
      "Wall time: 16.4 s\n"
     ]
    }
   ],
   "source": [
    "%%time\n",
    "trash_features = ['TransactionDT', 'dayName']\n",
    "\n",
    "lgbm_model = training_model(train.drop(trash_features, axis=1), cat_cols)"
   ]
  },
  {
   "cell_type": "markdown",
   "id": "32a17519",
   "metadata": {},
   "source": [
    "### lb"
   ]
  },
  {
   "cell_type": "code",
   "execution_count": 11,
   "id": "34582707",
   "metadata": {},
   "outputs": [
    {
     "data": {
      "text/html": [
       "<div>\n",
       "<style scoped>\n",
       "    .dataframe tbody tr th:only-of-type {\n",
       "        vertical-align: middle;\n",
       "    }\n",
       "\n",
       "    .dataframe tbody tr th {\n",
       "        vertical-align: top;\n",
       "    }\n",
       "\n",
       "    .dataframe thead th {\n",
       "        text-align: right;\n",
       "    }\n",
       "</style>\n",
       "<table border=\"1\" class=\"dataframe\">\n",
       "  <thead>\n",
       "    <tr style=\"text-align: right;\">\n",
       "      <th></th>\n",
       "      <th>roc_auc</th>\n",
       "    </tr>\n",
       "  </thead>\n",
       "  <tbody>\n",
       "    <tr>\n",
       "      <th>base_line</th>\n",
       "      <td>0.860853</td>\n",
       "    </tr>\n",
       "    <tr>\n",
       "      <th>TransactionDT</th>\n",
       "      <td>0.864649</td>\n",
       "    </tr>\n",
       "  </tbody>\n",
       "</table>\n",
       "</div>"
      ],
      "text/plain": [
       "                roc_auc\n",
       "base_line      0.860853\n",
       "TransactionDT  0.864649"
      ]
     },
     "execution_count": 11,
     "metadata": {},
     "output_type": "execute_result"
    }
   ],
   "source": [
    "lb = prepTD(lb)\n",
    "\n",
    "scores.loc['TransactionDT', 'roc_auc'] = get_lb_auc(lb.drop(trash_features, axis=1), lgbm_model)\n",
    "scores"
   ]
  },
  {
   "cell_type": "markdown",
   "id": "ab56bfdd",
   "metadata": {},
   "source": [
    "### Вывод:\n",
    "\n",
    "- результат lb улучшился примерно на 0.004"
   ]
  },
  {
   "cell_type": "markdown",
   "id": "b1154403",
   "metadata": {},
   "source": [
    "## Задание 2: сделать конкатенацию признаков \n",
    "## Рассматривать их как категориальных признаки.\n",
    "* card1 + card2;"
   ]
  },
  {
   "cell_type": "code",
   "execution_count": 12,
   "id": "c468e4f2",
   "metadata": {},
   "outputs": [
    {
     "data": {
      "text/html": [
       "<div>\n",
       "<style scoped>\n",
       "    .dataframe tbody tr th:only-of-type {\n",
       "        vertical-align: middle;\n",
       "    }\n",
       "\n",
       "    .dataframe tbody tr th {\n",
       "        vertical-align: top;\n",
       "    }\n",
       "\n",
       "    .dataframe thead th {\n",
       "        text-align: right;\n",
       "    }\n",
       "</style>\n",
       "<table border=\"1\" class=\"dataframe\">\n",
       "  <thead>\n",
       "    <tr style=\"text-align: right;\">\n",
       "      <th></th>\n",
       "      <th>TransactionID</th>\n",
       "      <th>isFraud</th>\n",
       "      <th>TransactionDT</th>\n",
       "      <th>TransactionAmt</th>\n",
       "      <th>ProductCD</th>\n",
       "      <th>card1</th>\n",
       "      <th>card2</th>\n",
       "      <th>card3</th>\n",
       "      <th>card4</th>\n",
       "      <th>card5</th>\n",
       "      <th>...</th>\n",
       "      <th>V336</th>\n",
       "      <th>V337</th>\n",
       "      <th>V338</th>\n",
       "      <th>V339</th>\n",
       "      <th>year</th>\n",
       "      <th>month</th>\n",
       "      <th>day</th>\n",
       "      <th>dayName</th>\n",
       "      <th>hour</th>\n",
       "      <th>card1_card2</th>\n",
       "    </tr>\n",
       "  </thead>\n",
       "  <tbody>\n",
       "    <tr>\n",
       "      <th>0</th>\n",
       "      <td>2987000</td>\n",
       "      <td>0</td>\n",
       "      <td>2017-12-02 00:00:00</td>\n",
       "      <td>68.5</td>\n",
       "      <td>0</td>\n",
       "      <td>13926</td>\n",
       "      <td>NaN</td>\n",
       "      <td>150.0</td>\n",
       "      <td>3.0</td>\n",
       "      <td>142.0</td>\n",
       "      <td>...</td>\n",
       "      <td>NaN</td>\n",
       "      <td>NaN</td>\n",
       "      <td>NaN</td>\n",
       "      <td>NaN</td>\n",
       "      <td>2017</td>\n",
       "      <td>12</td>\n",
       "      <td>2</td>\n",
       "      <td>Saturday</td>\n",
       "      <td>0</td>\n",
       "      <td>13926 nan</td>\n",
       "    </tr>\n",
       "    <tr>\n",
       "      <th>1</th>\n",
       "      <td>2987001</td>\n",
       "      <td>0</td>\n",
       "      <td>2017-12-02 00:00:01</td>\n",
       "      <td>29.0</td>\n",
       "      <td>0</td>\n",
       "      <td>2755</td>\n",
       "      <td>404.0</td>\n",
       "      <td>150.0</td>\n",
       "      <td>1.0</td>\n",
       "      <td>102.0</td>\n",
       "      <td>...</td>\n",
       "      <td>NaN</td>\n",
       "      <td>NaN</td>\n",
       "      <td>NaN</td>\n",
       "      <td>NaN</td>\n",
       "      <td>2017</td>\n",
       "      <td>12</td>\n",
       "      <td>2</td>\n",
       "      <td>Saturday</td>\n",
       "      <td>0</td>\n",
       "      <td>2755 404.0</td>\n",
       "    </tr>\n",
       "  </tbody>\n",
       "</table>\n",
       "<p>2 rows × 400 columns</p>\n",
       "</div>"
      ],
      "text/plain": [
       "   TransactionID  isFraud       TransactionDT  TransactionAmt  ProductCD  \\\n",
       "0        2987000        0 2017-12-02 00:00:00            68.5          0   \n",
       "1        2987001        0 2017-12-02 00:00:01            29.0          0   \n",
       "\n",
       "   card1  card2  card3  card4  card5  ...  V336  V337  V338  V339  year  \\\n",
       "0  13926    NaN  150.0    3.0  142.0  ...   NaN   NaN   NaN   NaN  2017   \n",
       "1   2755  404.0  150.0    1.0  102.0  ...   NaN   NaN   NaN   NaN  2017   \n",
       "\n",
       "   month  day   dayName  hour  card1_card2  \n",
       "0     12    2  Saturday     0    13926 nan  \n",
       "1     12    2  Saturday     0   2755 404.0  \n",
       "\n",
       "[2 rows x 400 columns]"
      ]
     },
     "execution_count": 12,
     "metadata": {},
     "output_type": "execute_result"
    }
   ],
   "source": [
    "def concat_features(df, features: list):\n",
    "    df = df.copy()\n",
    "    new_feature = '_'.join(features)\n",
    "\n",
    "    df[new_feature] = df[features[0]].astype(str)\n",
    "\n",
    "    for i in range(1, len(features)):\n",
    "        df[new_feature] = df[new_feature] + ' ' + df[features[i]].astype(str)\n",
    "    \n",
    "    return df, new_feature\n",
    "\n",
    "to_concat = ['card1', 'card2']\n",
    "\n",
    "train, new_feature = concat_features(train, features=to_concat)\n",
    "lb, new_feature = concat_features(lb, features=to_concat)\n",
    "\n",
    "trash_features.append(new_feature)\n",
    "\n",
    "train[:2]"
   ]
  },
  {
   "cell_type": "markdown",
   "id": "a282b444",
   "metadata": {},
   "source": [
    "* card1 + card2 + card_3 + card_5;"
   ]
  },
  {
   "cell_type": "code",
   "execution_count": 13,
   "id": "785869e3",
   "metadata": {},
   "outputs": [
    {
     "data": {
      "text/html": [
       "<div>\n",
       "<style scoped>\n",
       "    .dataframe tbody tr th:only-of-type {\n",
       "        vertical-align: middle;\n",
       "    }\n",
       "\n",
       "    .dataframe tbody tr th {\n",
       "        vertical-align: top;\n",
       "    }\n",
       "\n",
       "    .dataframe thead th {\n",
       "        text-align: right;\n",
       "    }\n",
       "</style>\n",
       "<table border=\"1\" class=\"dataframe\">\n",
       "  <thead>\n",
       "    <tr style=\"text-align: right;\">\n",
       "      <th></th>\n",
       "      <th>TransactionID</th>\n",
       "      <th>isFraud</th>\n",
       "      <th>TransactionDT</th>\n",
       "      <th>TransactionAmt</th>\n",
       "      <th>ProductCD</th>\n",
       "      <th>card1</th>\n",
       "      <th>card2</th>\n",
       "      <th>card3</th>\n",
       "      <th>card4</th>\n",
       "      <th>card5</th>\n",
       "      <th>...</th>\n",
       "      <th>V337</th>\n",
       "      <th>V338</th>\n",
       "      <th>V339</th>\n",
       "      <th>year</th>\n",
       "      <th>month</th>\n",
       "      <th>day</th>\n",
       "      <th>dayName</th>\n",
       "      <th>hour</th>\n",
       "      <th>card1_card2</th>\n",
       "      <th>card1_card2_card3_card5</th>\n",
       "    </tr>\n",
       "  </thead>\n",
       "  <tbody>\n",
       "    <tr>\n",
       "      <th>0</th>\n",
       "      <td>2987000</td>\n",
       "      <td>0</td>\n",
       "      <td>2017-12-02 00:00:00</td>\n",
       "      <td>68.5</td>\n",
       "      <td>0</td>\n",
       "      <td>13926</td>\n",
       "      <td>NaN</td>\n",
       "      <td>150.0</td>\n",
       "      <td>3.0</td>\n",
       "      <td>142.0</td>\n",
       "      <td>...</td>\n",
       "      <td>NaN</td>\n",
       "      <td>NaN</td>\n",
       "      <td>NaN</td>\n",
       "      <td>2017</td>\n",
       "      <td>12</td>\n",
       "      <td>2</td>\n",
       "      <td>Saturday</td>\n",
       "      <td>0</td>\n",
       "      <td>13926 nan</td>\n",
       "      <td>13926 nan 150.0 142.0</td>\n",
       "    </tr>\n",
       "    <tr>\n",
       "      <th>1</th>\n",
       "      <td>2987001</td>\n",
       "      <td>0</td>\n",
       "      <td>2017-12-02 00:00:01</td>\n",
       "      <td>29.0</td>\n",
       "      <td>0</td>\n",
       "      <td>2755</td>\n",
       "      <td>404.0</td>\n",
       "      <td>150.0</td>\n",
       "      <td>1.0</td>\n",
       "      <td>102.0</td>\n",
       "      <td>...</td>\n",
       "      <td>NaN</td>\n",
       "      <td>NaN</td>\n",
       "      <td>NaN</td>\n",
       "      <td>2017</td>\n",
       "      <td>12</td>\n",
       "      <td>2</td>\n",
       "      <td>Saturday</td>\n",
       "      <td>0</td>\n",
       "      <td>2755 404.0</td>\n",
       "      <td>2755 404.0 150.0 102.0</td>\n",
       "    </tr>\n",
       "  </tbody>\n",
       "</table>\n",
       "<p>2 rows × 401 columns</p>\n",
       "</div>"
      ],
      "text/plain": [
       "   TransactionID  isFraud       TransactionDT  TransactionAmt  ProductCD  \\\n",
       "0        2987000        0 2017-12-02 00:00:00            68.5          0   \n",
       "1        2987001        0 2017-12-02 00:00:01            29.0          0   \n",
       "\n",
       "   card1  card2  card3  card4  card5  ...  V337  V338  V339  year  month  day  \\\n",
       "0  13926    NaN  150.0    3.0  142.0  ...   NaN   NaN   NaN  2017     12    2   \n",
       "1   2755  404.0  150.0    1.0  102.0  ...   NaN   NaN   NaN  2017     12    2   \n",
       "\n",
       "    dayName  hour  card1_card2  card1_card2_card3_card5  \n",
       "0  Saturday     0    13926 nan    13926 nan 150.0 142.0  \n",
       "1  Saturday     0   2755 404.0   2755 404.0 150.0 102.0  \n",
       "\n",
       "[2 rows x 401 columns]"
      ]
     },
     "execution_count": 13,
     "metadata": {},
     "output_type": "execute_result"
    }
   ],
   "source": [
    "to_concat.extend(['card3', 'card5'])\n",
    "\n",
    "train, new_feature = concat_features(train, features=to_concat)\n",
    "lb, new_feature = concat_features(lb, features=to_concat)\n",
    "\n",
    "trash_features.append(new_feature)\n",
    "\n",
    "train[:2]"
   ]
  },
  {
   "cell_type": "markdown",
   "id": "f2d5b93e",
   "metadata": {},
   "source": [
    "* card1 + card2 + card_3 + card_5 + addr1 + addr2"
   ]
  },
  {
   "cell_type": "code",
   "execution_count": 14,
   "id": "6d080572",
   "metadata": {},
   "outputs": [
    {
     "data": {
      "text/html": [
       "<div>\n",
       "<style scoped>\n",
       "    .dataframe tbody tr th:only-of-type {\n",
       "        vertical-align: middle;\n",
       "    }\n",
       "\n",
       "    .dataframe tbody tr th {\n",
       "        vertical-align: top;\n",
       "    }\n",
       "\n",
       "    .dataframe thead th {\n",
       "        text-align: right;\n",
       "    }\n",
       "</style>\n",
       "<table border=\"1\" class=\"dataframe\">\n",
       "  <thead>\n",
       "    <tr style=\"text-align: right;\">\n",
       "      <th></th>\n",
       "      <th>TransactionID</th>\n",
       "      <th>isFraud</th>\n",
       "      <th>TransactionDT</th>\n",
       "      <th>TransactionAmt</th>\n",
       "      <th>ProductCD</th>\n",
       "      <th>card1</th>\n",
       "      <th>card2</th>\n",
       "      <th>card3</th>\n",
       "      <th>card4</th>\n",
       "      <th>card5</th>\n",
       "      <th>...</th>\n",
       "      <th>V338</th>\n",
       "      <th>V339</th>\n",
       "      <th>year</th>\n",
       "      <th>month</th>\n",
       "      <th>day</th>\n",
       "      <th>dayName</th>\n",
       "      <th>hour</th>\n",
       "      <th>card1_card2</th>\n",
       "      <th>card1_card2_card3_card5</th>\n",
       "      <th>card1_card2_card3_card5_addr1_addr2</th>\n",
       "    </tr>\n",
       "  </thead>\n",
       "  <tbody>\n",
       "    <tr>\n",
       "      <th>0</th>\n",
       "      <td>2987000</td>\n",
       "      <td>0</td>\n",
       "      <td>2017-12-02 00:00:00</td>\n",
       "      <td>68.5</td>\n",
       "      <td>0</td>\n",
       "      <td>13926</td>\n",
       "      <td>NaN</td>\n",
       "      <td>150.0</td>\n",
       "      <td>3.0</td>\n",
       "      <td>142.0</td>\n",
       "      <td>...</td>\n",
       "      <td>NaN</td>\n",
       "      <td>NaN</td>\n",
       "      <td>2017</td>\n",
       "      <td>12</td>\n",
       "      <td>2</td>\n",
       "      <td>Saturday</td>\n",
       "      <td>0</td>\n",
       "      <td>13926 nan</td>\n",
       "      <td>13926 nan 150.0 142.0</td>\n",
       "      <td>13926 nan 150.0 142.0 315.0 87.0</td>\n",
       "    </tr>\n",
       "    <tr>\n",
       "      <th>1</th>\n",
       "      <td>2987001</td>\n",
       "      <td>0</td>\n",
       "      <td>2017-12-02 00:00:01</td>\n",
       "      <td>29.0</td>\n",
       "      <td>0</td>\n",
       "      <td>2755</td>\n",
       "      <td>404.0</td>\n",
       "      <td>150.0</td>\n",
       "      <td>1.0</td>\n",
       "      <td>102.0</td>\n",
       "      <td>...</td>\n",
       "      <td>NaN</td>\n",
       "      <td>NaN</td>\n",
       "      <td>2017</td>\n",
       "      <td>12</td>\n",
       "      <td>2</td>\n",
       "      <td>Saturday</td>\n",
       "      <td>0</td>\n",
       "      <td>2755 404.0</td>\n",
       "      <td>2755 404.0 150.0 102.0</td>\n",
       "      <td>2755 404.0 150.0 102.0 325.0 87.0</td>\n",
       "    </tr>\n",
       "  </tbody>\n",
       "</table>\n",
       "<p>2 rows × 402 columns</p>\n",
       "</div>"
      ],
      "text/plain": [
       "   TransactionID  isFraud       TransactionDT  TransactionAmt  ProductCD  \\\n",
       "0        2987000        0 2017-12-02 00:00:00            68.5          0   \n",
       "1        2987001        0 2017-12-02 00:00:01            29.0          0   \n",
       "\n",
       "   card1  card2  card3  card4  card5  ...  V338  V339  year  month  day  \\\n",
       "0  13926    NaN  150.0    3.0  142.0  ...   NaN   NaN  2017     12    2   \n",
       "1   2755  404.0  150.0    1.0  102.0  ...   NaN   NaN  2017     12    2   \n",
       "\n",
       "    dayName  hour  card1_card2  card1_card2_card3_card5  \\\n",
       "0  Saturday     0    13926 nan    13926 nan 150.0 142.0   \n",
       "1  Saturday     0   2755 404.0   2755 404.0 150.0 102.0   \n",
       "\n",
       "   card1_card2_card3_card5_addr1_addr2  \n",
       "0     13926 nan 150.0 142.0 315.0 87.0  \n",
       "1    2755 404.0 150.0 102.0 325.0 87.0  \n",
       "\n",
       "[2 rows x 402 columns]"
      ]
     },
     "execution_count": 14,
     "metadata": {},
     "output_type": "execute_result"
    }
   ],
   "source": [
    "to_concat.extend(['addr1', 'addr2'])\n",
    "\n",
    "train, new_feature = concat_features(train, features=to_concat)\n",
    "lb, new_feature = concat_features(lb, features=to_concat)\n",
    "\n",
    "trash_features.append(new_feature)\n",
    "\n",
    "train[:2]"
   ]
  },
  {
   "cell_type": "markdown",
   "id": "3573f0a4",
   "metadata": {},
   "source": [
    "## Задание 3: Сделать FrequencyEncoder для признаков card1 - card6, addr1, addr2."
   ]
  },
  {
   "cell_type": "code",
   "execution_count": 15,
   "id": "8b3cd147",
   "metadata": {},
   "outputs": [
    {
     "data": {
      "text/html": [
       "<div>\n",
       "<style scoped>\n",
       "    .dataframe tbody tr th:only-of-type {\n",
       "        vertical-align: middle;\n",
       "    }\n",
       "\n",
       "    .dataframe tbody tr th {\n",
       "        vertical-align: top;\n",
       "    }\n",
       "\n",
       "    .dataframe thead th {\n",
       "        text-align: right;\n",
       "    }\n",
       "</style>\n",
       "<table border=\"1\" class=\"dataframe\">\n",
       "  <thead>\n",
       "    <tr style=\"text-align: right;\">\n",
       "      <th></th>\n",
       "      <th>TransactionID</th>\n",
       "      <th>isFraud</th>\n",
       "      <th>TransactionDT</th>\n",
       "      <th>TransactionAmt</th>\n",
       "      <th>ProductCD</th>\n",
       "      <th>card1</th>\n",
       "      <th>card2</th>\n",
       "      <th>card3</th>\n",
       "      <th>card4</th>\n",
       "      <th>card5</th>\n",
       "      <th>...</th>\n",
       "      <th>V339</th>\n",
       "      <th>year</th>\n",
       "      <th>month</th>\n",
       "      <th>day</th>\n",
       "      <th>dayName</th>\n",
       "      <th>hour</th>\n",
       "      <th>card1_card2</th>\n",
       "      <th>card1_card2_card3_card5</th>\n",
       "      <th>card1_card2_card3_card5_addr1_addr2</th>\n",
       "      <th>addr2_FE</th>\n",
       "    </tr>\n",
       "  </thead>\n",
       "  <tbody>\n",
       "    <tr>\n",
       "      <th>0</th>\n",
       "      <td>2987000</td>\n",
       "      <td>0</td>\n",
       "      <td>2017-12-02 00:00:00</td>\n",
       "      <td>68.5</td>\n",
       "      <td>0</td>\n",
       "      <td>13926</td>\n",
       "      <td>NaN</td>\n",
       "      <td>150.0</td>\n",
       "      <td>3.0</td>\n",
       "      <td>142.0</td>\n",
       "      <td>...</td>\n",
       "      <td>NaN</td>\n",
       "      <td>2017</td>\n",
       "      <td>12</td>\n",
       "      <td>2</td>\n",
       "      <td>Saturday</td>\n",
       "      <td>0</td>\n",
       "      <td>13926 nan</td>\n",
       "      <td>13926 nan 150.0 142.0</td>\n",
       "      <td>13926 nan 150.0 142.0 315.0 87.0</td>\n",
       "      <td>0.982344</td>\n",
       "    </tr>\n",
       "    <tr>\n",
       "      <th>1</th>\n",
       "      <td>2987001</td>\n",
       "      <td>0</td>\n",
       "      <td>2017-12-02 00:00:01</td>\n",
       "      <td>29.0</td>\n",
       "      <td>0</td>\n",
       "      <td>2755</td>\n",
       "      <td>404.0</td>\n",
       "      <td>150.0</td>\n",
       "      <td>1.0</td>\n",
       "      <td>102.0</td>\n",
       "      <td>...</td>\n",
       "      <td>NaN</td>\n",
       "      <td>2017</td>\n",
       "      <td>12</td>\n",
       "      <td>2</td>\n",
       "      <td>Saturday</td>\n",
       "      <td>0</td>\n",
       "      <td>2755 404.0</td>\n",
       "      <td>2755 404.0 150.0 102.0</td>\n",
       "      <td>2755 404.0 150.0 102.0 325.0 87.0</td>\n",
       "      <td>0.982344</td>\n",
       "    </tr>\n",
       "  </tbody>\n",
       "</table>\n",
       "<p>2 rows × 403 columns</p>\n",
       "</div>"
      ],
      "text/plain": [
       "   TransactionID  isFraud       TransactionDT  TransactionAmt  ProductCD  \\\n",
       "0        2987000        0 2017-12-02 00:00:00            68.5          0   \n",
       "1        2987001        0 2017-12-02 00:00:01            29.0          0   \n",
       "\n",
       "   card1  card2  card3  card4  card5  ...  V339  year  month  day   dayName  \\\n",
       "0  13926    NaN  150.0    3.0  142.0  ...   NaN  2017     12    2  Saturday   \n",
       "1   2755  404.0  150.0    1.0  102.0  ...   NaN  2017     12    2  Saturday   \n",
       "\n",
       "   hour  card1_card2  card1_card2_card3_card5  \\\n",
       "0     0    13926 nan    13926 nan 150.0 142.0   \n",
       "1     0   2755 404.0   2755 404.0 150.0 102.0   \n",
       "\n",
       "   card1_card2_card3_card5_addr1_addr2  addr2_FE  \n",
       "0     13926 nan 150.0 142.0 315.0 87.0  0.982344  \n",
       "1    2755 404.0 150.0 102.0 325.0 87.0  0.982344  \n",
       "\n",
       "[2 rows x 403 columns]"
      ]
     },
     "execution_count": 15,
     "metadata": {},
     "output_type": "execute_result"
    }
   ],
   "source": [
    "def freq_encoder(df, feature):\n",
    "    df = train.copy()\n",
    "    freq_encoder = df[feature].value_counts(normalize=True)\n",
    "    df[feature + '_FE'] = df[feature].map(freq_encoder)\n",
    "    return df\n",
    "\n",
    "def add_freq_encoder(df, columns):\n",
    "    df = df.copy()\n",
    "    for col in card_addr: \n",
    "        df = freq_encoder(df, col)\n",
    "        \n",
    "    return df\n",
    "\n",
    "card_addr = ['card1', 'card2', 'card3', 'card4', 'card5', 'card6', 'addr1', 'addr2']\n",
    "train = add_freq_encoder(train, card_addr)\n",
    "    \n",
    "train[:2]"
   ]
  },
  {
   "cell_type": "markdown",
   "id": "bd75a40b",
   "metadata": {},
   "source": [
    "### training"
   ]
  },
  {
   "cell_type": "code",
   "execution_count": 16,
   "id": "f26f7fec",
   "metadata": {},
   "outputs": [
    {
     "name": "stdout",
     "output_type": "stream",
     "text": [
      "[LightGBM] [Info] Number of positive: 4181, number of negative: 139819\n",
      "[LightGBM] [Info] This is the GPU trainer!!\n",
      "[LightGBM] [Info] Total Bins 31884\n",
      "[LightGBM] [Info] Number of data points in the train set: 144000, number of used features: 395\n",
      "[LightGBM] [Info] Using GPU Device: NVIDIA GeForce GTX 1050 Ti, Vendor: NVIDIA Corporation\n",
      "[LightGBM] [Info] Compiling OpenCL Kernel with 256 bins...\n",
      "[LightGBM] [Info] GPU programs have been built\n",
      "[LightGBM] [Info] Size of histogram bin entry: 8\n",
      "[LightGBM] [Info] 214 dense feature groups (29.66 MB) transferred to GPU in 0.045037 secs. 1 sparse feature groups\n",
      "[LightGBM] [Info] [binary:BoostFromScore]: pavg=0.029035 -> initscore=-3.509798\n",
      "[LightGBM] [Info] Start training from score -3.509798\n",
      "[10]\ttraining's auc: 0.897285\tvalid_1's auc: 0.882594\n",
      "[20]\ttraining's auc: 0.917139\tvalid_1's auc: 0.899555\n",
      "[30]\ttraining's auc: 0.932103\tvalid_1's auc: 0.910114\n",
      "[40]\ttraining's auc: 0.941447\tvalid_1's auc: 0.91911\n",
      "[50]\ttraining's auc: 0.950499\tvalid_1's auc: 0.92463\n",
      "[60]\ttraining's auc: 0.955865\tvalid_1's auc: 0.929474\n",
      "[70]\ttraining's auc: 0.961563\tvalid_1's auc: 0.934748\n",
      "[80]\ttraining's auc: 0.966248\tvalid_1's auc: 0.937529\n",
      "[90]\ttraining's auc: 0.969355\tvalid_1's auc: 0.939464\n",
      "[100]\ttraining's auc: 0.972885\tvalid_1's auc: 0.941626\n",
      "Wall time: 18.9 s\n"
     ]
    }
   ],
   "source": [
    "%%time\n",
    "lgbm_model = training_model(train.drop(trash_features, axis=1), cat_cols)"
   ]
  },
  {
   "cell_type": "markdown",
   "id": "499f62b0",
   "metadata": {},
   "source": [
    "### lb"
   ]
  },
  {
   "cell_type": "code",
   "execution_count": 17,
   "id": "0e921136",
   "metadata": {},
   "outputs": [
    {
     "data": {
      "text/html": [
       "<div>\n",
       "<style scoped>\n",
       "    .dataframe tbody tr th:only-of-type {\n",
       "        vertical-align: middle;\n",
       "    }\n",
       "\n",
       "    .dataframe tbody tr th {\n",
       "        vertical-align: top;\n",
       "    }\n",
       "\n",
       "    .dataframe thead th {\n",
       "        text-align: right;\n",
       "    }\n",
       "</style>\n",
       "<table border=\"1\" class=\"dataframe\">\n",
       "  <thead>\n",
       "    <tr style=\"text-align: right;\">\n",
       "      <th></th>\n",
       "      <th>roc_auc</th>\n",
       "    </tr>\n",
       "  </thead>\n",
       "  <tbody>\n",
       "    <tr>\n",
       "      <th>base_line</th>\n",
       "      <td>0.860853</td>\n",
       "    </tr>\n",
       "    <tr>\n",
       "      <th>TransactionDT</th>\n",
       "      <td>0.864649</td>\n",
       "    </tr>\n",
       "    <tr>\n",
       "      <th>FrequencyEncoder</th>\n",
       "      <td>0.96708</td>\n",
       "    </tr>\n",
       "  </tbody>\n",
       "</table>\n",
       "</div>"
      ],
      "text/plain": [
       "                   roc_auc\n",
       "base_line         0.860853\n",
       "TransactionDT     0.864649\n",
       "FrequencyEncoder   0.96708"
      ]
     },
     "execution_count": 17,
     "metadata": {},
     "output_type": "execute_result"
    }
   ],
   "source": [
    "lb = add_freq_encoder(lb, card_addr)\n",
    "\n",
    "scores.loc['FrequencyEncoder', 'roc_auc'] = get_lb_auc(lb.drop(trash_features, axis=1), lgbm_model)\n",
    "scores"
   ]
  },
  {
   "cell_type": "markdown",
   "id": "5f2d93cc",
   "metadata": {},
   "source": [
    "### Вывод:\n",
    "- результат просто ОГОНЬ - точность повысилась почти на 10.5%!"
   ]
  },
  {
   "cell_type": "markdown",
   "id": "e1deab6b",
   "metadata": {},
   "source": [
    "## Задание 4: Создать признаки на основе отношения: TransactionAmt к вычисленной статистике. Статистика - среднее значение / стандартное отклонение TransactionAmt, сгруппированное по card1 - card6, addr1, addr2, и по признакам, созданным в задании 2."
   ]
  },
  {
   "cell_type": "code",
   "execution_count": 18,
   "id": "4a247e57",
   "metadata": {},
   "outputs": [
    {
     "data": {
      "text/html": [
       "<div>\n",
       "<style scoped>\n",
       "    .dataframe tbody tr th:only-of-type {\n",
       "        vertical-align: middle;\n",
       "    }\n",
       "\n",
       "    .dataframe tbody tr th {\n",
       "        vertical-align: top;\n",
       "    }\n",
       "\n",
       "    .dataframe thead th {\n",
       "        text-align: right;\n",
       "    }\n",
       "</style>\n",
       "<table border=\"1\" class=\"dataframe\">\n",
       "  <thead>\n",
       "    <tr style=\"text-align: right;\">\n",
       "      <th></th>\n",
       "      <th>TransactionID</th>\n",
       "      <th>isFraud</th>\n",
       "      <th>TransactionDT</th>\n",
       "      <th>TransactionAmt</th>\n",
       "      <th>ProductCD</th>\n",
       "      <th>card1</th>\n",
       "      <th>card2</th>\n",
       "      <th>card3</th>\n",
       "      <th>card4</th>\n",
       "      <th>card5</th>\n",
       "      <th>...</th>\n",
       "      <th>addr1_TransactionAmt_mean</th>\n",
       "      <th>addr1_TransactionAmt_std</th>\n",
       "      <th>addr2_TransactionAmt_mean</th>\n",
       "      <th>addr2_TransactionAmt_std</th>\n",
       "      <th>card1_card2_TransactionAmt_mean</th>\n",
       "      <th>card1_card2_TransactionAmt_std</th>\n",
       "      <th>card1_card2_card3_card5_TransactionAmt_mean</th>\n",
       "      <th>card1_card2_card3_card5_TransactionAmt_std</th>\n",
       "      <th>card1_card2_card3_card5_addr1_addr2_TransactionAmt_mean</th>\n",
       "      <th>card1_card2_card3_card5_addr1_addr2_TransactionAmt_std</th>\n",
       "    </tr>\n",
       "  </thead>\n",
       "  <tbody>\n",
       "    <tr>\n",
       "      <th>0</th>\n",
       "      <td>2987000</td>\n",
       "      <td>0</td>\n",
       "      <td>2017-12-02 00:00:00</td>\n",
       "      <td>68.5</td>\n",
       "      <td>0</td>\n",
       "      <td>13926</td>\n",
       "      <td>NaN</td>\n",
       "      <td>150.0</td>\n",
       "      <td>3.0</td>\n",
       "      <td>142.0</td>\n",
       "      <td>...</td>\n",
       "      <td>133.110424</td>\n",
       "      <td>237.894612</td>\n",
       "      <td>140.836345</td>\n",
       "      <td>217.497586</td>\n",
       "      <td>296.37500</td>\n",
       "      <td>235.958109</td>\n",
       "      <td>296.37500</td>\n",
       "      <td>235.958109</td>\n",
       "      <td>68.500000</td>\n",
       "      <td>NaN</td>\n",
       "    </tr>\n",
       "    <tr>\n",
       "      <th>1</th>\n",
       "      <td>2987001</td>\n",
       "      <td>0</td>\n",
       "      <td>2017-12-02 00:00:01</td>\n",
       "      <td>29.0</td>\n",
       "      <td>0</td>\n",
       "      <td>2755</td>\n",
       "      <td>404.0</td>\n",
       "      <td>150.0</td>\n",
       "      <td>1.0</td>\n",
       "      <td>102.0</td>\n",
       "      <td>...</td>\n",
       "      <td>149.334343</td>\n",
       "      <td>228.947057</td>\n",
       "      <td>140.836345</td>\n",
       "      <td>217.497586</td>\n",
       "      <td>229.58808</td>\n",
       "      <td>413.469295</td>\n",
       "      <td>229.58808</td>\n",
       "      <td>413.469295</td>\n",
       "      <td>226.809524</td>\n",
       "      <td>270.054718</td>\n",
       "    </tr>\n",
       "  </tbody>\n",
       "</table>\n",
       "<p>2 rows × 425 columns</p>\n",
       "</div>"
      ],
      "text/plain": [
       "   TransactionID  isFraud       TransactionDT  TransactionAmt  ProductCD  \\\n",
       "0        2987000        0 2017-12-02 00:00:00            68.5          0   \n",
       "1        2987001        0 2017-12-02 00:00:01            29.0          0   \n",
       "\n",
       "   card1  card2  card3  card4  card5  ...  addr1_TransactionAmt_mean  \\\n",
       "0  13926    NaN  150.0    3.0  142.0  ...                 133.110424   \n",
       "1   2755  404.0  150.0    1.0  102.0  ...                 149.334343   \n",
       "\n",
       "   addr1_TransactionAmt_std  addr2_TransactionAmt_mean  \\\n",
       "0                237.894612                 140.836345   \n",
       "1                228.947057                 140.836345   \n",
       "\n",
       "   addr2_TransactionAmt_std  card1_card2_TransactionAmt_mean  \\\n",
       "0                217.497586                        296.37500   \n",
       "1                217.497586                        229.58808   \n",
       "\n",
       "   card1_card2_TransactionAmt_std  \\\n",
       "0                      235.958109   \n",
       "1                      413.469295   \n",
       "\n",
       "   card1_card2_card3_card5_TransactionAmt_mean  \\\n",
       "0                                    296.37500   \n",
       "1                                    229.58808   \n",
       "\n",
       "   card1_card2_card3_card5_TransactionAmt_std  \\\n",
       "0                                  235.958109   \n",
       "1                                  413.469295   \n",
       "\n",
       "   card1_card2_card3_card5_addr1_addr2_TransactionAmt_mean  \\\n",
       "0                                          68.500000         \n",
       "1                                         226.809524         \n",
       "\n",
       "   card1_card2_card3_card5_addr1_addr2_TransactionAmt_std  \n",
       "0                                                NaN       \n",
       "1                                         270.054718       \n",
       "\n",
       "[2 rows x 425 columns]"
      ]
     },
     "execution_count": 18,
     "metadata": {},
     "output_type": "execute_result"
    }
   ],
   "source": [
    "def feature_stats(df, groupby, feature):\n",
    "    stats = ['mean', 'std']\n",
    "    group = df.groupby(groupby)[feature]\n",
    "    group = group.agg(stats)\n",
    "    group = group.reset_index()\n",
    "    group = group.rename(\n",
    "        columns={stat: f'{groupby}_{feature}_{stat}' for stat in stats}\n",
    "    )\n",
    "    return group\n",
    "\n",
    "def add_feature_stats(df, feature, columns: list):\n",
    "    df = df.copy()\n",
    "    for col in columns:\n",
    "        group = feature_stats(df, groupby=col, feature=feature)\n",
    "        df = df.merge(group, on=col, how='left')\n",
    "    return df\n",
    "\n",
    "card_addr_concats = card_addr + ['card1_card2', 'card1_card2_card3_card5', 'card1_card2_card3_card5_addr1_addr2']\n",
    "\n",
    "train = add_feature_stats(train, 'TransactionAmt', card_addr_concats)\n",
    "train[:2]"
   ]
  },
  {
   "cell_type": "markdown",
   "id": "1d406803",
   "metadata": {},
   "source": [
    "### training"
   ]
  },
  {
   "cell_type": "code",
   "execution_count": 19,
   "id": "480e0851",
   "metadata": {},
   "outputs": [
    {
     "name": "stdout",
     "output_type": "stream",
     "text": [
      "[LightGBM] [Info] Number of positive: 4181, number of negative: 139819\n",
      "[LightGBM] [Info] This is the GPU trainer!!\n",
      "[LightGBM] [Info] Total Bins 35033\n",
      "[LightGBM] [Info] Number of data points in the train set: 144000, number of used features: 417\n",
      "[LightGBM] [Info] Using GPU Device: NVIDIA GeForce GTX 1050 Ti, Vendor: NVIDIA Corporation\n",
      "[LightGBM] [Info] Compiling OpenCL Kernel with 256 bins...\n",
      "[LightGBM] [Info] GPU programs have been built\n",
      "[LightGBM] [Info] Size of histogram bin entry: 8\n",
      "[LightGBM] [Info] 232 dense feature groups (31.86 MB) transferred to GPU in 0.047121 secs. 1 sparse feature groups\n",
      "[LightGBM] [Info] [binary:BoostFromScore]: pavg=0.029035 -> initscore=-3.509798\n",
      "[LightGBM] [Info] Start training from score -3.509798\n",
      "[10]\ttraining's auc: 0.899964\tvalid_1's auc: 0.886769\n",
      "[20]\ttraining's auc: 0.920017\tvalid_1's auc: 0.903094\n",
      "[30]\ttraining's auc: 0.935218\tvalid_1's auc: 0.914123\n",
      "[40]\ttraining's auc: 0.947925\tvalid_1's auc: 0.923574\n",
      "[50]\ttraining's auc: 0.956727\tvalid_1's auc: 0.929872\n",
      "[60]\ttraining's auc: 0.962217\tvalid_1's auc: 0.936229\n",
      "[70]\ttraining's auc: 0.968428\tvalid_1's auc: 0.939296\n",
      "[80]\ttraining's auc: 0.972782\tvalid_1's auc: 0.941816\n",
      "[90]\ttraining's auc: 0.975784\tvalid_1's auc: 0.943473\n",
      "[100]\ttraining's auc: 0.978171\tvalid_1's auc: 0.945294\n",
      "Wall time: 17.8 s\n"
     ]
    }
   ],
   "source": [
    "%%time\n",
    "lgbm_model = training_model(train.drop(trash_features, axis=1), cat_cols)"
   ]
  },
  {
   "cell_type": "markdown",
   "id": "160e94c0",
   "metadata": {},
   "source": [
    "### lb"
   ]
  },
  {
   "cell_type": "code",
   "execution_count": 20,
   "id": "64f80738",
   "metadata": {},
   "outputs": [
    {
     "data": {
      "text/html": [
       "<div>\n",
       "<style scoped>\n",
       "    .dataframe tbody tr th:only-of-type {\n",
       "        vertical-align: middle;\n",
       "    }\n",
       "\n",
       "    .dataframe tbody tr th {\n",
       "        vertical-align: top;\n",
       "    }\n",
       "\n",
       "    .dataframe thead th {\n",
       "        text-align: right;\n",
       "    }\n",
       "</style>\n",
       "<table border=\"1\" class=\"dataframe\">\n",
       "  <thead>\n",
       "    <tr style=\"text-align: right;\">\n",
       "      <th></th>\n",
       "      <th>roc_auc</th>\n",
       "    </tr>\n",
       "  </thead>\n",
       "  <tbody>\n",
       "    <tr>\n",
       "      <th>base_line</th>\n",
       "      <td>0.860853</td>\n",
       "    </tr>\n",
       "    <tr>\n",
       "      <th>TransactionDT</th>\n",
       "      <td>0.864649</td>\n",
       "    </tr>\n",
       "    <tr>\n",
       "      <th>FrequencyEncoder</th>\n",
       "      <td>0.96708</td>\n",
       "    </tr>\n",
       "    <tr>\n",
       "      <th>TransactionAmt</th>\n",
       "      <td>0.972065</td>\n",
       "    </tr>\n",
       "  </tbody>\n",
       "</table>\n",
       "</div>"
      ],
      "text/plain": [
       "                   roc_auc\n",
       "base_line         0.860853\n",
       "TransactionDT     0.864649\n",
       "FrequencyEncoder   0.96708\n",
       "TransactionAmt    0.972065"
      ]
     },
     "execution_count": 20,
     "metadata": {},
     "output_type": "execute_result"
    }
   ],
   "source": [
    "lb = add_feature_stats(lb, 'TransactionAmt', card_addr_concats)\n",
    "\n",
    "scores.loc['TransactionAmt', 'roc_auc'] = get_lb_auc(lb.drop(trash_features, axis=1), lgbm_model)\n",
    "scores"
   ]
  },
  {
   "cell_type": "markdown",
   "id": "4c136e53",
   "metadata": {},
   "source": [
    "### Вывод:\n",
    "- после добавления данных признаков точность возрасла на 0.06"
   ]
  },
  {
   "cell_type": "markdown",
   "id": "9f293376",
   "metadata": {},
   "source": [
    "## Задание 5: Создать признаки на основе отношения: D15 к вычисленной статистике. Статистика - среднее значение / стандартное отклонение D15, сгруппированное по card1 - card6, addr1, addr2, и по признакам, созданным в задании 2."
   ]
  },
  {
   "cell_type": "code",
   "execution_count": 21,
   "id": "afb12624",
   "metadata": {},
   "outputs": [
    {
     "data": {
      "text/html": [
       "<div>\n",
       "<style scoped>\n",
       "    .dataframe tbody tr th:only-of-type {\n",
       "        vertical-align: middle;\n",
       "    }\n",
       "\n",
       "    .dataframe tbody tr th {\n",
       "        vertical-align: top;\n",
       "    }\n",
       "\n",
       "    .dataframe thead th {\n",
       "        text-align: right;\n",
       "    }\n",
       "</style>\n",
       "<table border=\"1\" class=\"dataframe\">\n",
       "  <thead>\n",
       "    <tr style=\"text-align: right;\">\n",
       "      <th></th>\n",
       "      <th>TransactionID</th>\n",
       "      <th>isFraud</th>\n",
       "      <th>TransactionDT</th>\n",
       "      <th>TransactionAmt</th>\n",
       "      <th>ProductCD</th>\n",
       "      <th>card1</th>\n",
       "      <th>card2</th>\n",
       "      <th>card3</th>\n",
       "      <th>card4</th>\n",
       "      <th>card5</th>\n",
       "      <th>...</th>\n",
       "      <th>addr1_D15_mean</th>\n",
       "      <th>addr1_D15_std</th>\n",
       "      <th>addr2_D15_mean</th>\n",
       "      <th>addr2_D15_std</th>\n",
       "      <th>card1_card2_D15_mean</th>\n",
       "      <th>card1_card2_D15_std</th>\n",
       "      <th>card1_card2_card3_card5_D15_mean</th>\n",
       "      <th>card1_card2_card3_card5_D15_std</th>\n",
       "      <th>card1_card2_card3_card5_addr1_addr2_D15_mean</th>\n",
       "      <th>card1_card2_card3_card5_addr1_addr2_D15_std</th>\n",
       "    </tr>\n",
       "  </thead>\n",
       "  <tbody>\n",
       "    <tr>\n",
       "      <th>0</th>\n",
       "      <td>2987000</td>\n",
       "      <td>0</td>\n",
       "      <td>2017-12-02 00:00:00</td>\n",
       "      <td>68.5</td>\n",
       "      <td>0</td>\n",
       "      <td>13926</td>\n",
       "      <td>NaN</td>\n",
       "      <td>150.0</td>\n",
       "      <td>3.0</td>\n",
       "      <td>142.0</td>\n",
       "      <td>...</td>\n",
       "      <td>188.936614</td>\n",
       "      <td>194.069187</td>\n",
       "      <td>169.541518</td>\n",
       "      <td>186.33749</td>\n",
       "      <td>0.500000</td>\n",
       "      <td>0.577350</td>\n",
       "      <td>0.500000</td>\n",
       "      <td>0.577350</td>\n",
       "      <td>0.00</td>\n",
       "      <td>NaN</td>\n",
       "    </tr>\n",
       "    <tr>\n",
       "      <th>1</th>\n",
       "      <td>2987001</td>\n",
       "      <td>0</td>\n",
       "      <td>2017-12-02 00:00:01</td>\n",
       "      <td>29.0</td>\n",
       "      <td>0</td>\n",
       "      <td>2755</td>\n",
       "      <td>404.0</td>\n",
       "      <td>150.0</td>\n",
       "      <td>1.0</td>\n",
       "      <td>102.0</td>\n",
       "      <td>...</td>\n",
       "      <td>195.737281</td>\n",
       "      <td>194.440057</td>\n",
       "      <td>169.541518</td>\n",
       "      <td>186.33749</td>\n",
       "      <td>114.811765</td>\n",
       "      <td>177.751006</td>\n",
       "      <td>114.811765</td>\n",
       "      <td>177.751006</td>\n",
       "      <td>59.75</td>\n",
       "      <td>123.056897</td>\n",
       "    </tr>\n",
       "  </tbody>\n",
       "</table>\n",
       "<p>2 rows × 447 columns</p>\n",
       "</div>"
      ],
      "text/plain": [
       "   TransactionID  isFraud       TransactionDT  TransactionAmt  ProductCD  \\\n",
       "0        2987000        0 2017-12-02 00:00:00            68.5          0   \n",
       "1        2987001        0 2017-12-02 00:00:01            29.0          0   \n",
       "\n",
       "   card1  card2  card3  card4  card5  ...  addr1_D15_mean  addr1_D15_std  \\\n",
       "0  13926    NaN  150.0    3.0  142.0  ...      188.936614     194.069187   \n",
       "1   2755  404.0  150.0    1.0  102.0  ...      195.737281     194.440057   \n",
       "\n",
       "   addr2_D15_mean  addr2_D15_std  card1_card2_D15_mean  card1_card2_D15_std  \\\n",
       "0      169.541518      186.33749              0.500000             0.577350   \n",
       "1      169.541518      186.33749            114.811765           177.751006   \n",
       "\n",
       "   card1_card2_card3_card5_D15_mean  card1_card2_card3_card5_D15_std  \\\n",
       "0                          0.500000                         0.577350   \n",
       "1                        114.811765                       177.751006   \n",
       "\n",
       "   card1_card2_card3_card5_addr1_addr2_D15_mean  \\\n",
       "0                                          0.00   \n",
       "1                                         59.75   \n",
       "\n",
       "   card1_card2_card3_card5_addr1_addr2_D15_std  \n",
       "0                                          NaN  \n",
       "1                                   123.056897  \n",
       "\n",
       "[2 rows x 447 columns]"
      ]
     },
     "execution_count": 21,
     "metadata": {},
     "output_type": "execute_result"
    }
   ],
   "source": [
    "train = add_feature_stats(train, 'D15', card_addr_concats)\n",
    "train[:2]"
   ]
  },
  {
   "cell_type": "markdown",
   "id": "091d0ac0",
   "metadata": {},
   "source": [
    "### training"
   ]
  },
  {
   "cell_type": "code",
   "execution_count": 22,
   "id": "adcd3695",
   "metadata": {},
   "outputs": [
    {
     "name": "stdout",
     "output_type": "stream",
     "text": [
      "[LightGBM] [Info] Number of positive: 4181, number of negative: 139819\n",
      "[LightGBM] [Info] This is the GPU trainer!!\n",
      "[LightGBM] [Info] Total Bins 38035\n",
      "[LightGBM] [Info] Number of data points in the train set: 144000, number of used features: 439\n",
      "[LightGBM] [Info] Using GPU Device: NVIDIA GeForce GTX 1050 Ti, Vendor: NVIDIA Corporation\n",
      "[LightGBM] [Info] Compiling OpenCL Kernel with 256 bins...\n",
      "[LightGBM] [Info] GPU programs have been built\n",
      "[LightGBM] [Info] Size of histogram bin entry: 8\n",
      "[LightGBM] [Info] 250 dense feature groups (34.61 MB) transferred to GPU in 0.037119 secs. 1 sparse feature groups\n",
      "[LightGBM] [Info] [binary:BoostFromScore]: pavg=0.029035 -> initscore=-3.509798\n",
      "[LightGBM] [Info] Start training from score -3.509798\n",
      "[10]\ttraining's auc: 0.899643\tvalid_1's auc: 0.883337\n",
      "[20]\ttraining's auc: 0.92249\tvalid_1's auc: 0.902612\n",
      "[30]\ttraining's auc: 0.939328\tvalid_1's auc: 0.914562\n",
      "[40]\ttraining's auc: 0.951754\tvalid_1's auc: 0.924629\n",
      "[50]\ttraining's auc: 0.959011\tvalid_1's auc: 0.930453\n",
      "[60]\ttraining's auc: 0.965389\tvalid_1's auc: 0.93593\n",
      "[70]\ttraining's auc: 0.970121\tvalid_1's auc: 0.938492\n",
      "[80]\ttraining's auc: 0.973981\tvalid_1's auc: 0.941132\n",
      "[90]\ttraining's auc: 0.977221\tvalid_1's auc: 0.943047\n",
      "[100]\ttraining's auc: 0.979286\tvalid_1's auc: 0.944463\n",
      "Wall time: 15 s\n"
     ]
    }
   ],
   "source": [
    "%%time\n",
    "lgbm_model = training_model(train.drop(trash_features, axis=1), cat_cols)"
   ]
  },
  {
   "cell_type": "markdown",
   "id": "e0274ee3",
   "metadata": {},
   "source": [
    "### lb"
   ]
  },
  {
   "cell_type": "code",
   "execution_count": 23,
   "id": "ea5ac83e",
   "metadata": {},
   "outputs": [
    {
     "data": {
      "text/html": [
       "<div>\n",
       "<style scoped>\n",
       "    .dataframe tbody tr th:only-of-type {\n",
       "        vertical-align: middle;\n",
       "    }\n",
       "\n",
       "    .dataframe tbody tr th {\n",
       "        vertical-align: top;\n",
       "    }\n",
       "\n",
       "    .dataframe thead th {\n",
       "        text-align: right;\n",
       "    }\n",
       "</style>\n",
       "<table border=\"1\" class=\"dataframe\">\n",
       "  <thead>\n",
       "    <tr style=\"text-align: right;\">\n",
       "      <th></th>\n",
       "      <th>roc_auc</th>\n",
       "    </tr>\n",
       "  </thead>\n",
       "  <tbody>\n",
       "    <tr>\n",
       "      <th>base_line</th>\n",
       "      <td>0.860853</td>\n",
       "    </tr>\n",
       "    <tr>\n",
       "      <th>TransactionDT</th>\n",
       "      <td>0.864649</td>\n",
       "    </tr>\n",
       "    <tr>\n",
       "      <th>FrequencyEncoder</th>\n",
       "      <td>0.96708</td>\n",
       "    </tr>\n",
       "    <tr>\n",
       "      <th>TransactionAmt</th>\n",
       "      <td>0.972065</td>\n",
       "    </tr>\n",
       "    <tr>\n",
       "      <th>D15</th>\n",
       "      <td>0.972812</td>\n",
       "    </tr>\n",
       "  </tbody>\n",
       "</table>\n",
       "</div>"
      ],
      "text/plain": [
       "                   roc_auc\n",
       "base_line         0.860853\n",
       "TransactionDT     0.864649\n",
       "FrequencyEncoder   0.96708\n",
       "TransactionAmt    0.972065\n",
       "D15               0.972812"
      ]
     },
     "execution_count": 23,
     "metadata": {},
     "output_type": "execute_result"
    }
   ],
   "source": [
    "lb = add_feature_stats(lb, 'D15', card_addr_concats)\n",
    "\n",
    "scores.loc['D15', 'roc_auc'] = get_lb_auc(lb.drop(trash_features, axis=1), lgbm_model)\n",
    "scores"
   ]
  },
  {
   "cell_type": "markdown",
   "id": "f4e7ae08",
   "metadata": {},
   "source": [
    "### Вывод:\n",
    "- точность выросла еще на 0.038"
   ]
  },
  {
   "cell_type": "markdown",
   "id": "340e37b2",
   "metadata": {},
   "source": [
    "## Задание 6: выделить дробную часть и целую часть признака TransactionAmt в два отдельных признака. После создать отдельных признак - логарифм от TransactionAmt"
   ]
  },
  {
   "cell_type": "code",
   "execution_count": 24,
   "id": "a5164849",
   "metadata": {},
   "outputs": [
    {
     "data": {
      "text/html": [
       "<div>\n",
       "<style scoped>\n",
       "    .dataframe tbody tr th:only-of-type {\n",
       "        vertical-align: middle;\n",
       "    }\n",
       "\n",
       "    .dataframe tbody tr th {\n",
       "        vertical-align: top;\n",
       "    }\n",
       "\n",
       "    .dataframe thead th {\n",
       "        text-align: right;\n",
       "    }\n",
       "</style>\n",
       "<table border=\"1\" class=\"dataframe\">\n",
       "  <thead>\n",
       "    <tr style=\"text-align: right;\">\n",
       "      <th></th>\n",
       "      <th>TransactionID</th>\n",
       "      <th>isFraud</th>\n",
       "      <th>TransactionDT</th>\n",
       "      <th>TransactionAmt</th>\n",
       "      <th>ProductCD</th>\n",
       "      <th>card1</th>\n",
       "      <th>card2</th>\n",
       "      <th>card3</th>\n",
       "      <th>card4</th>\n",
       "      <th>card5</th>\n",
       "      <th>...</th>\n",
       "      <th>addr2_D15_std</th>\n",
       "      <th>card1_card2_D15_mean</th>\n",
       "      <th>card1_card2_D15_std</th>\n",
       "      <th>card1_card2_card3_card5_D15_mean</th>\n",
       "      <th>card1_card2_card3_card5_D15_std</th>\n",
       "      <th>card1_card2_card3_card5_addr1_addr2_D15_mean</th>\n",
       "      <th>card1_card2_card3_card5_addr1_addr2_D15_std</th>\n",
       "      <th>int_TransactionAmt</th>\n",
       "      <th>frac_TransactionAmt</th>\n",
       "      <th>log_TransactionAmt</th>\n",
       "    </tr>\n",
       "  </thead>\n",
       "  <tbody>\n",
       "    <tr>\n",
       "      <th>0</th>\n",
       "      <td>2987000</td>\n",
       "      <td>0</td>\n",
       "      <td>2017-12-02 00:00:00</td>\n",
       "      <td>68.5</td>\n",
       "      <td>0</td>\n",
       "      <td>13926</td>\n",
       "      <td>NaN</td>\n",
       "      <td>150.0</td>\n",
       "      <td>3.0</td>\n",
       "      <td>142.0</td>\n",
       "      <td>...</td>\n",
       "      <td>186.33749</td>\n",
       "      <td>0.500000</td>\n",
       "      <td>0.577350</td>\n",
       "      <td>0.500000</td>\n",
       "      <td>0.577350</td>\n",
       "      <td>0.00</td>\n",
       "      <td>NaN</td>\n",
       "      <td>68</td>\n",
       "      <td>0.5</td>\n",
       "      <td>4.226834</td>\n",
       "    </tr>\n",
       "    <tr>\n",
       "      <th>1</th>\n",
       "      <td>2987001</td>\n",
       "      <td>0</td>\n",
       "      <td>2017-12-02 00:00:01</td>\n",
       "      <td>29.0</td>\n",
       "      <td>0</td>\n",
       "      <td>2755</td>\n",
       "      <td>404.0</td>\n",
       "      <td>150.0</td>\n",
       "      <td>1.0</td>\n",
       "      <td>102.0</td>\n",
       "      <td>...</td>\n",
       "      <td>186.33749</td>\n",
       "      <td>114.811765</td>\n",
       "      <td>177.751006</td>\n",
       "      <td>114.811765</td>\n",
       "      <td>177.751006</td>\n",
       "      <td>59.75</td>\n",
       "      <td>123.056897</td>\n",
       "      <td>29</td>\n",
       "      <td>0.0</td>\n",
       "      <td>3.367296</td>\n",
       "    </tr>\n",
       "  </tbody>\n",
       "</table>\n",
       "<p>2 rows × 450 columns</p>\n",
       "</div>"
      ],
      "text/plain": [
       "   TransactionID  isFraud       TransactionDT  TransactionAmt  ProductCD  \\\n",
       "0        2987000        0 2017-12-02 00:00:00            68.5          0   \n",
       "1        2987001        0 2017-12-02 00:00:01            29.0          0   \n",
       "\n",
       "   card1  card2  card3  card4  card5  ...  addr2_D15_std  \\\n",
       "0  13926    NaN  150.0    3.0  142.0  ...      186.33749   \n",
       "1   2755  404.0  150.0    1.0  102.0  ...      186.33749   \n",
       "\n",
       "   card1_card2_D15_mean  card1_card2_D15_std  \\\n",
       "0              0.500000             0.577350   \n",
       "1            114.811765           177.751006   \n",
       "\n",
       "   card1_card2_card3_card5_D15_mean  card1_card2_card3_card5_D15_std  \\\n",
       "0                          0.500000                         0.577350   \n",
       "1                        114.811765                       177.751006   \n",
       "\n",
       "   card1_card2_card3_card5_addr1_addr2_D15_mean  \\\n",
       "0                                          0.00   \n",
       "1                                         59.75   \n",
       "\n",
       "   card1_card2_card3_card5_addr1_addr2_D15_std  int_TransactionAmt  \\\n",
       "0                                          NaN                  68   \n",
       "1                                   123.056897                  29   \n",
       "\n",
       "   frac_TransactionAmt  log_TransactionAmt  \n",
       "0                  0.5            4.226834  \n",
       "1                  0.0            3.367296  \n",
       "\n",
       "[2 rows x 450 columns]"
      ]
     },
     "execution_count": 24,
     "metadata": {},
     "output_type": "execute_result"
    }
   ],
   "source": [
    "def int_frac_log_features(df, feature):\n",
    "    df = df.copy()\n",
    "    \n",
    "    integer = df[feature].astype(int)\n",
    "    fraction = df[feature] - integer\n",
    "    logarithm = np.log(df[feature])\n",
    "    \n",
    "    df[f'int_{feature}'] = integer\n",
    "    df[f'frac_{feature}'] = fraction\n",
    "    df[f'log_{feature}'] = logarithm\n",
    "    \n",
    "    return df\n",
    "    \n",
    "train = int_frac_log_features(train, 'TransactionAmt')\n",
    "train[:2]"
   ]
  },
  {
   "cell_type": "markdown",
   "id": "c3444529",
   "metadata": {},
   "source": [
    "### training"
   ]
  },
  {
   "cell_type": "code",
   "execution_count": 25,
   "id": "f2be883a",
   "metadata": {},
   "outputs": [
    {
     "name": "stdout",
     "output_type": "stream",
     "text": [
      "[LightGBM] [Info] Number of positive: 4181, number of negative: 139819\n",
      "[LightGBM] [Info] This is the GPU trainer!!\n",
      "[LightGBM] [Info] Total Bins 38799\n",
      "[LightGBM] [Info] Number of data points in the train set: 144000, number of used features: 442\n",
      "[LightGBM] [Info] Using GPU Device: NVIDIA GeForce GTX 1050 Ti, Vendor: NVIDIA Corporation\n",
      "[LightGBM] [Info] Compiling OpenCL Kernel with 256 bins...\n",
      "[LightGBM] [Info] GPU programs have been built\n",
      "[LightGBM] [Info] Size of histogram bin entry: 8\n",
      "[LightGBM] [Info] 253 dense feature groups (35.16 MB) transferred to GPU in 0.049967 secs. 1 sparse feature groups\n",
      "[LightGBM] [Info] [binary:BoostFromScore]: pavg=0.029035 -> initscore=-3.509798\n",
      "[LightGBM] [Info] Start training from score -3.509798\n",
      "[10]\ttraining's auc: 0.899643\tvalid_1's auc: 0.883337\n",
      "[20]\ttraining's auc: 0.922471\tvalid_1's auc: 0.902658\n",
      "[30]\ttraining's auc: 0.938101\tvalid_1's auc: 0.914683\n",
      "[40]\ttraining's auc: 0.951122\tvalid_1's auc: 0.923029\n",
      "[50]\ttraining's auc: 0.959063\tvalid_1's auc: 0.928035\n",
      "[60]\ttraining's auc: 0.966156\tvalid_1's auc: 0.933509\n",
      "[70]\ttraining's auc: 0.96985\tvalid_1's auc: 0.937404\n",
      "[80]\ttraining's auc: 0.974071\tvalid_1's auc: 0.941338\n",
      "[90]\ttraining's auc: 0.977509\tvalid_1's auc: 0.943471\n",
      "[100]\ttraining's auc: 0.979556\tvalid_1's auc: 0.944772\n",
      "Wall time: 17.3 s\n"
     ]
    }
   ],
   "source": [
    "%%time\n",
    "lgbm_model = training_model(train.drop(trash_features, axis=1), cat_cols)"
   ]
  },
  {
   "cell_type": "markdown",
   "id": "adc1a48e",
   "metadata": {},
   "source": [
    "### lb"
   ]
  },
  {
   "cell_type": "code",
   "execution_count": 26,
   "id": "1ad384f6",
   "metadata": {},
   "outputs": [
    {
     "data": {
      "text/html": [
       "<div>\n",
       "<style scoped>\n",
       "    .dataframe tbody tr th:only-of-type {\n",
       "        vertical-align: middle;\n",
       "    }\n",
       "\n",
       "    .dataframe tbody tr th {\n",
       "        vertical-align: top;\n",
       "    }\n",
       "\n",
       "    .dataframe thead th {\n",
       "        text-align: right;\n",
       "    }\n",
       "</style>\n",
       "<table border=\"1\" class=\"dataframe\">\n",
       "  <thead>\n",
       "    <tr style=\"text-align: right;\">\n",
       "      <th></th>\n",
       "      <th>roc_auc</th>\n",
       "    </tr>\n",
       "  </thead>\n",
       "  <tbody>\n",
       "    <tr>\n",
       "      <th>base_line</th>\n",
       "      <td>0.860853</td>\n",
       "    </tr>\n",
       "    <tr>\n",
       "      <th>TransactionDT</th>\n",
       "      <td>0.864649</td>\n",
       "    </tr>\n",
       "    <tr>\n",
       "      <th>FrequencyEncoder</th>\n",
       "      <td>0.96708</td>\n",
       "    </tr>\n",
       "    <tr>\n",
       "      <th>TransactionAmt</th>\n",
       "      <td>0.972065</td>\n",
       "    </tr>\n",
       "    <tr>\n",
       "      <th>D15</th>\n",
       "      <td>0.972812</td>\n",
       "    </tr>\n",
       "    <tr>\n",
       "      <th>intFracLog</th>\n",
       "      <td>0.973101</td>\n",
       "    </tr>\n",
       "  </tbody>\n",
       "</table>\n",
       "</div>"
      ],
      "text/plain": [
       "                   roc_auc\n",
       "base_line         0.860853\n",
       "TransactionDT     0.864649\n",
       "FrequencyEncoder   0.96708\n",
       "TransactionAmt    0.972065\n",
       "D15               0.972812\n",
       "intFracLog        0.973101"
      ]
     },
     "execution_count": 26,
     "metadata": {},
     "output_type": "execute_result"
    }
   ],
   "source": [
    "lb = int_frac_log_features(lb, 'TransactionAmt')\n",
    "\n",
    "scores.loc['intFracLog', 'roc_auc'] = get_lb_auc(lb.drop(trash_features, axis=1), lgbm_model)\n",
    "scores"
   ]
  },
  {
   "cell_type": "markdown",
   "id": "8dce619d",
   "metadata": {},
   "source": [
    "### Вывод:\n",
    "- точность модели почти не изменилась"
   ]
  },
  {
   "cell_type": "markdown",
   "id": "d1f5421a",
   "metadata": {},
   "source": [
    "### View score"
   ]
  },
  {
   "cell_type": "code",
   "execution_count": 33,
   "id": "cb5a4f7a",
   "metadata": {},
   "outputs": [
    {
     "data": {
      "text/plain": [
       "<AxesSubplot:ylabel='score'>"
      ]
     },
     "execution_count": 33,
     "metadata": {},
     "output_type": "execute_result"
    },
    {
     "data": {
      "image/png": "[encoded data removed]",
      "text/plain": [
       "<Figure size 648x288 with 1 Axes>"
      ]
     },
     "metadata": {
      "needs_background": "light"
     },
     "output_type": "display_data"
    }
   ],
   "source": [
    "scores.plot(grid=True, ylabel='score', figsize=(9, 4))"
   ]
  },
  {
   "cell_type": "code",
   "execution_count": 28,
   "id": "53cc1db6",
   "metadata": {},
   "outputs": [
    {
     "data": {
      "text/plain": [
       "TransactionID                                              89\n",
       "card1_card2_card3_card5_addr1_addr2_TransactionAmt_std     84\n",
       "card1                                                      80\n",
       "card1_card2_card3_card5_addr1_addr2_D15_std                69\n",
       "C13                                                        68\n",
       "P_emaildomain                                              67\n",
       "day                                                        58\n",
       "card1_card2_card3_card5_addr1_addr2_TransactionAmt_mean    52\n",
       "D2                                                         51\n",
       "card2                                                      46\n",
       "D8                                                         45\n",
       "card2_D15_std                                              44\n",
       "addr1                                                      44\n",
       "addr1_TransactionAmt_mean                                  43\n",
       "card2_D15_mean                                             41\n",
       "card1_card2_card3_card5_addr1_addr2_D15_mean               40\n",
       "card2_TransactionAmt_mean                                  39\n",
       "addr1_D15_std                                              38\n",
       "card2_TransactionAmt_std                                   38\n",
       "log_TransactionAmt                                         38\n",
       "dtype: int64"
      ]
     },
     "execution_count": 28,
     "metadata": {},
     "output_type": "execute_result"
    }
   ],
   "source": [
    "feature_importance = pd.Series(dict(zip(\n",
    "    lgbm_model.feature_name(), \n",
    "    lgbm_model.feature_importance()\n",
    "))).sort_values(ascending=False)\n",
    "\n",
    "feature_importance[:20]"
   ]
  },
  {
   "cell_type": "code",
   "execution_count": 29,
   "id": "1bb7370c",
   "metadata": {},
   "outputs": [
    {
     "data": {
      "text/plain": [
       "<AxesSubplot:>"
      ]
     },
     "execution_count": 29,
     "metadata": {},
     "output_type": "execute_result"
    },
    {
     "data": {
      "image/png": "[encoded data removed]",
      "text/plain": [
       "<Figure size 720x576 with 1 Axes>"
      ]
     },
     "metadata": {
      "needs_background": "light"
     },
     "output_type": "display_data"
    }
   ],
   "source": [
    "feature_importance[:20].plot(kind='barh', figsize=(10, 8), grid=True)"
   ]
  },
  {
   "cell_type": "markdown",
   "id": "4211e9ae",
   "metadata": {},
   "source": [
    "## Задание 7 (опция): выполнить предварительную подготовку / очистку признаков P_emaildomain и R_emaildomain (что и как делать - остается на ваше усмотрение) и сделать Frequency Encoding для очищенных признаков.b"
   ]
  },
  {
   "cell_type": "code",
   "execution_count": null,
   "id": "056c6ed2",
   "metadata": {},
   "outputs": [],
   "source": []
  }
 ],
 "metadata": {
  "kernelspec": {
   "display_name": "Python 3",
   "language": "python",
   "name": "python3"
  },
  "language_info": {
   "codemirror_mode": {
    "name": "ipython",
    "version": 3
   },
   "file_extension": ".py",
   "mimetype": "text/x-python",
   "name": "python",
   "nbconvert_exporter": "python",
   "pygments_lexer": "ipython3",
   "version": "3.8.8"
  }
 },
 "nbformat": 4,
 "nbformat_minor": 5
}
